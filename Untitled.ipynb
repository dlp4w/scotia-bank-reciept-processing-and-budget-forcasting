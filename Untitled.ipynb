{
 "cells": [
  {
   "cell_type": "code",
   "execution_count": null,
   "id": "9000fd84-4caf-4d2f-8a8e-72fbd9e76066",
   "metadata": {},
   "outputs": [],
   "source": [
    "#!pip install pytesseract \n",
    "#!pip install opencv \n",
    "#!pip install numpy as np\n",
    "#!pip install pillow\n",
    "#!pip install "
   ]
  },
  {
   "cell_type": "code",
   "execution_count": 30,
   "id": "72d5a4aa-174a-4967-8b1f-7add19be6804",
   "metadata": {},
   "outputs": [
    {
     "ename": "ModuleNotFoundError",
     "evalue": "No module named 'cv2'",
     "output_type": "error",
     "traceback": [
      "\u001b[1;31m---------------------------------------------------------------------------\u001b[0m",
      "\u001b[1;31mModuleNotFoundError\u001b[0m                       Traceback (most recent call last)",
      "Input \u001b[1;32mIn [30]\u001b[0m, in \u001b[0;36m<cell line: 1>\u001b[1;34m()\u001b[0m\n\u001b[1;32m----> 1\u001b[0m \u001b[38;5;28;01mimport\u001b[39;00m \u001b[38;5;21;01mcv2\u001b[39;00m\n",
      "\u001b[1;31mModuleNotFoundError\u001b[0m: No module named 'cv2'"
     ]
    }
   ],
   "source": []
  },
  {
   "cell_type": "code",
   "execution_count": 13,
   "id": "1a0dc7e5-7010-4f89-b8a7-d0e0d36bb920",
   "metadata": {},
   "outputs": [],
   "source": [
    "import pytesseract \n",
    "from PIL import Image\n",
    "import numpy as np"
   ]
  },
  {
   "cell_type": "code",
   "execution_count": 15,
   "id": "2a6fd9da-0f18-40f5-b302-b7d7ec675d52",
   "metadata": {},
   "outputs": [],
   "source": [
    "def load_image(url):\n",
    "    \"\"\"loads image and return a list \n",
    "    --input= image url\"\"\"\n",
    "    im=Image.open(url)\n",
    "    return im\n",
    "\n",
    "def extract_text(image):\n",
    "    \"\"\"extracts test out of image\n",
    "    --inputs= image_data\"\"\"\n",
    "    #configuration for pytesseract to operate with text extraction\n",
    "    config = ('-l eng --oem 1 --psm 3')\n",
    "    text = pytesseract.image_to_string(im, config=config)\n",
    "    \n",
    "    return text"
   ]
  },
  {
   "cell_type": "code",
   "execution_count": 25,
   "id": "7edac29f-ddf2-4017-bab5-bf6f31c98ff6",
   "metadata": {},
   "outputs": [],
   "source": [
    "#extract address\n",
    "#extract order \n",
    "#extract total  \n",
    "#makesure to have the total mapped into numbers if not extracted as a number, try to map the letters into numbers. \n",
    "#capture the reciept number "
   ]
  },
  {
   "cell_type": "code",
   "execution_count": 28,
   "id": "17329782-a490-4168-82ae-625d205fb5fa",
   "metadata": {},
   "outputs": [],
   "source": []
  },
  {
   "cell_type": "code",
   "execution_count": 29,
   "id": "8a4a3e1a-c189-4f72-bff9-83ef96b114bc",
   "metadata": {},
   "outputs": [
    {
     "name": "stdout",
     "output_type": "stream",
     "text": [
      "be BOWL TERIYAKI\n",
      ". 610 GARFIELD AVE.\n",
      "S UTH GATE, CA. 90280\n",
      "\n",
      "TEL: (882) g28-s999\n",
      "\n",
      "REG O&-18-2019 11:19 AM\n",
      "Manager1 MC #01 000141\n",
      "\n",
      "ORDER# ooOo0141\n",
      "\n",
      "1 #1 CHKN PLATE $9.39\n",
      "1 + AVOCADO $1.95\n",
      "1 MD. DRINK $2.29\n",
      "*kKHERE:!\n",
      "\n",
      "ae $1.40\n",
      "TOTAL. $IS.03\n",
      "CASH $20. 00\n",
      "CG f\n",
      "\n",
      " \n",
      "\f",
      "\n"
     ]
    }
   ],
   "source": [
    "print (text)"
   ]
  },
  {
   "cell_type": "code",
   "execution_count": null,
   "id": "d26254c9-e1e7-43ff-8813-62b09acf286f",
   "metadata": {},
   "outputs": [],
   "source": []
  }
 ],
 "metadata": {
  "kernelspec": {
   "display_name": "Python 3 (ipykernel)",
   "language": "python",
   "name": "python3"
  },
  "language_info": {
   "codemirror_mode": {
    "name": "ipython",
    "version": 3
   },
   "file_extension": ".py",
   "mimetype": "text/x-python",
   "name": "python",
   "nbconvert_exporter": "python",
   "pygments_lexer": "ipython3",
   "version": "3.9.12"
  }
 },
 "nbformat": 4,
 "nbformat_minor": 5
}
