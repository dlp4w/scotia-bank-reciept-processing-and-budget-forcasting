{
 "cells": [
  {
   "cell_type": "code",
   "execution_count": 3,
   "id": "105bcf73-1b4a-47ff-a785-f41186a1c318",
   "metadata": {},
   "outputs": [
    {
     "name": "stdout",
     "output_type": "stream",
     "text": [
      "Collecting pgeocode\n",
      "  Downloading pgeocode-0.3.0-py3-none-any.whl (8.5 kB)\n",
      "Requirement already satisfied: requests in c:\\users\\consultant\\anaconda3\\lib\\site-packages (from pgeocode) (2.27.1)\n",
      "Requirement already satisfied: numpy in c:\\users\\consultant\\anaconda3\\lib\\site-packages (from pgeocode) (1.21.5)\n",
      "Requirement already satisfied: pandas in c:\\users\\consultant\\anaconda3\\lib\\site-packages (from pgeocode) (1.4.2)\n",
      "Requirement already satisfied: pytz>=2020.1 in c:\\users\\consultant\\anaconda3\\lib\\site-packages (from pandas->pgeocode) (2021.3)\n",
      "Requirement already satisfied: python-dateutil>=2.8.1 in c:\\users\\consultant\\anaconda3\\lib\\site-packages (from pandas->pgeocode) (2.8.2)\n",
      "Requirement already satisfied: six>=1.5 in c:\\users\\consultant\\anaconda3\\lib\\site-packages (from python-dateutil>=2.8.1->pandas->pgeocode) (1.16.0)\n",
      "Requirement already satisfied: idna<4,>=2.5 in c:\\users\\consultant\\anaconda3\\lib\\site-packages (from requests->pgeocode) (3.3)\n",
      "Requirement already satisfied: certifi>=2017.4.17 in c:\\users\\consultant\\anaconda3\\lib\\site-packages (from requests->pgeocode) (2021.10.8)\n",
      "Requirement already satisfied: urllib3<1.27,>=1.21.1 in c:\\users\\consultant\\anaconda3\\lib\\site-packages (from requests->pgeocode) (1.26.9)\n",
      "Requirement already satisfied: charset-normalizer~=2.0.0 in c:\\users\\consultant\\anaconda3\\lib\\site-packages (from requests->pgeocode) (2.0.4)\n",
      "Installing collected packages: pgeocode\n",
      "Successfully installed pgeocode-0.3.0\n"
     ]
    }
   ],
   "source": [
    "#!pip install CommonRegex\n",
    "!pip install pgeocode"
   ]
  },
  {
   "cell_type": "code",
   "execution_count": 8,
   "id": "d428199f-a0ad-4465-aae0-a931f81da09f",
   "metadata": {},
   "outputs": [],
   "source": [
    "import pandas as pd\n",
    "import numpy as np\n",
    "import matplotlib.pyplot as plt\n",
    "import seaborn\n",
    "import pytesseract \n",
    "from PIL import Image, ImageOps\n",
    "import re\n",
    "from commonregex import CommonRegex\n",
    "import pgeocode\n",
    "\n",
    "texts_df = pd.read_csv('texts.csv')\n"
   ]
  },
  {
   "cell_type": "code",
   "execution_count": 9,
   "id": "425572ac",
   "metadata": {},
   "outputs": [
    {
     "name": "stdout",
     "output_type": "stream",
     "text": [
      "    \n",
      "  \n",
      "  \n",
      "  \n",
      "\n",
      "GREEN FIELD\n",
      "5305 E PACIFIC COAST HWY\n",
      "Long Beach, CA 90804\n",
      "(S62) 597-0906\n",
      "\n",
      "Server: Francis Station: 4\n",
      "Order #: 69923 Dine In\n",
      "Table: B11 Guests: 2\n",
      "1 Coffee 3.00\n",
      "2 Lunch 45.90\n",
      "1 Coke 3.00\n",
      "SUB TOTAL: 51.90\n",
      "Tax 1:\n",
      "\n",
      "TOTAL: $56.58\n",
      "\n",
      "5/26/2016 12:53:10 PM\n",
      "\n",
      "INAH\n",
      "\n",
      "THANK YOU!\n",
      "\n",
      " \n",
      "\f",
      "\n"
     ]
    }
   ],
   "source": [
    "print(texts_df['0'][0])"
   ]
  },
  {
   "cell_type": "code",
   "execution_count": 10,
   "id": "2615d4b4",
   "metadata": {},
   "outputs": [],
   "source": [
    "#Change this function to extract ITEMS (with their respective prices)\n",
    "\"\"\"After geting the prices, locate their boxes, search for boxes that have similar height, assume those are \n",
    "the names of the items. Then look for the largest box (or the box on top), assume those are the names of the shops). \"\"\"\n",
    "\n",
    "def extract_prices(text):\n",
    "    prices = CommonRegex(text).prices\n",
    "    if len(prices) > 1:\n",
    "        return prices\n",
    "    else:\n",
    "        return np.nan\n",
    "    \n",
    "    \n",
    "    return CommonRegex(text).prices"
   ]
  },
  {
   "cell_type": "code",
   "execution_count": 11,
   "id": "24c0ca03-71a0-4e4b-8cef-560b99406ad2",
   "metadata": {},
   "outputs": [],
   "source": [
    "def extract_geo(text):\n",
    "    #zip_code \n",
    "    us_zip = r'(\\d{5}\\-?\\d{0,4})'\n",
    "    zip_code = re.search(us_zip, text)\n",
    "    try:\n",
    "        zip_code = zip_code[0]\n",
    "        nomi = pgeocode.Nominatim('us')\n",
    "        geodata = nomi.query_postal_code(zip_code)\n",
    "        longitude = geodata['longitude']\n",
    "        latitude = geodata['latitude']\n",
    "    except:\n",
    "        zip_code = np.nan\n",
    "        longitude = np.nan\n",
    "        latitude = np.nan\n",
    "        \n",
    "    \n",
    "    address = CommonRegex(text).street_addresses\n",
    "    if len(address) == 1:\n",
    "        address =  address[0]\n",
    "    else:\n",
    "        address = np.nan\n",
    "\n",
    "        \n",
    "    return zip_code, longitude, latitude, address\n",
    "    \n",
    "    "
   ]
  },
  {
   "cell_type": "code",
   "execution_count": 12,
   "id": "975925ca",
   "metadata": {},
   "outputs": [],
   "source": [
    "def extract_time(text):\n",
    "    times = CommonRegex(text).times\n",
    "    if len(times) == 1:\n",
    "        return times[0]\n",
    "    else:\n",
    "        return np.nan"
   ]
  },
  {
   "cell_type": "code",
   "execution_count": 13,
   "id": "a8cb52be-e60f-460b-bd04-718bd8da8cac",
   "metadata": {},
   "outputs": [],
   "source": [
    "#texts_df = pd.read_csv('texts.csv')\n",
    "geos = []\n",
    "times = []\n",
    "for text in texts_df['0']:\n",
    "    times.append(extract_time(text))\n",
    "    geos.append(extract_geo(text))\n",
    "\n"
   ]
  },
  {
   "cell_type": "code",
   "execution_count": 14,
   "id": "5f1009f2-eb31-47eb-9351-ab021b55a179",
   "metadata": {},
   "outputs": [],
   "source": [
    "df = pd.DataFrame(data = geos, columns = ['Zipcode','Latitude', 'Longitude', 'Address' ])\n",
    "df['Time'] = times"
   ]
  },
  {
   "cell_type": "code",
   "execution_count": 15,
   "id": "c980d603",
   "metadata": {},
   "outputs": [],
   "source": [
    "prices = []\n",
    "for text in texts_df['0']:\n",
    "    prices.append(extract_prices(text))\n",
    "df['prices'] = prices\n",
    "\n",
    "\n",
    "database = df.explode('prices')\n",
    "database.reset_index(inplace = True)"
   ]
  },
  {
   "cell_type": "code",
   "execution_count": 16,
   "id": "228d639d",
   "metadata": {},
   "outputs": [
    {
     "data": {
      "text/html": [
       "<div>\n",
       "<style scoped>\n",
       "    .dataframe tbody tr th:only-of-type {\n",
       "        vertical-align: middle;\n",
       "    }\n",
       "\n",
       "    .dataframe tbody tr th {\n",
       "        vertical-align: top;\n",
       "    }\n",
       "\n",
       "    .dataframe thead th {\n",
       "        text-align: right;\n",
       "    }\n",
       "</style>\n",
       "<table border=\"1\" class=\"dataframe\">\n",
       "  <thead>\n",
       "    <tr style=\"text-align: right;\">\n",
       "      <th></th>\n",
       "      <th>index</th>\n",
       "      <th>Zipcode</th>\n",
       "      <th>Latitude</th>\n",
       "      <th>Longitude</th>\n",
       "      <th>Address</th>\n",
       "      <th>Time</th>\n",
       "      <th>prices</th>\n",
       "    </tr>\n",
       "  </thead>\n",
       "  <tbody>\n",
       "    <tr>\n",
       "      <th>0</th>\n",
       "      <td>0</td>\n",
       "      <td>90804</td>\n",
       "      <td>-118.1357</td>\n",
       "      <td>33.7857</td>\n",
       "      <td>5305 E PACIFIC COAST HWY</td>\n",
       "      <td>12:53</td>\n",
       "      <td>NaN</td>\n",
       "    </tr>\n",
       "    <tr>\n",
       "      <th>1</th>\n",
       "      <td>1</td>\n",
       "      <td>NaN</td>\n",
       "      <td>NaN</td>\n",
       "      <td>NaN</td>\n",
       "      <td>NaN</td>\n",
       "      <td>NaN</td>\n",
       "      <td>NaN</td>\n",
       "    </tr>\n",
       "    <tr>\n",
       "      <th>2</th>\n",
       "      <td>2</td>\n",
       "      <td>378752</td>\n",
       "      <td>NaN</td>\n",
       "      <td>NaN</td>\n",
       "      <td>NaN</td>\n",
       "      <td>NaN</td>\n",
       "      <td>NaN</td>\n",
       "    </tr>\n",
       "    <tr>\n",
       "      <th>3</th>\n",
       "      <td>3</td>\n",
       "      <td>NaN</td>\n",
       "      <td>NaN</td>\n",
       "      <td>NaN</td>\n",
       "      <td>NaN</td>\n",
       "      <td>NaN</td>\n",
       "      <td>NaN</td>\n",
       "    </tr>\n",
       "    <tr>\n",
       "      <th>4</th>\n",
       "      <td>4</td>\n",
       "      <td>90280</td>\n",
       "      <td>-118.2013</td>\n",
       "      <td>33.9462</td>\n",
       "      <td>8510 GARFIELD AVE.</td>\n",
       "      <td>11:19 AM</td>\n",
       "      <td>$8.39</td>\n",
       "    </tr>\n",
       "  </tbody>\n",
       "</table>\n",
       "</div>"
      ],
      "text/plain": [
       "   index Zipcode  Latitude  Longitude                   Address      Time  \\\n",
       "0      0   90804 -118.1357    33.7857  5305 E PACIFIC COAST HWY     12:53   \n",
       "1      1     NaN       NaN        NaN                       NaN       NaN   \n",
       "2      2  378752       NaN        NaN                       NaN       NaN   \n",
       "3      3     NaN       NaN        NaN                       NaN       NaN   \n",
       "4      4   90280 -118.2013    33.9462        8510 GARFIELD AVE.  11:19 AM   \n",
       "\n",
       "  prices  \n",
       "0    NaN  \n",
       "1    NaN  \n",
       "2    NaN  \n",
       "3    NaN  \n",
       "4  $8.39  "
      ]
     },
     "execution_count": 16,
     "metadata": {},
     "output_type": "execute_result"
    }
   ],
   "source": [
    "database.head()"
   ]
  },
  {
   "cell_type": "code",
   "execution_count": 17,
   "id": "0a05101e",
   "metadata": {},
   "outputs": [
    {
     "data": {
      "text/plain": [
       "<AxesSubplot:>"
      ]
     },
     "execution_count": 17,
     "metadata": {},
     "output_type": "execute_result"
    },
    {
     "data": {
      "image/png": "[encoded data removed]",
      "text/plain": [
       "<Figure size 432x288 with 1 Axes>"
      ]
     },
     "metadata": {
      "needs_background": "light"
     },
     "output_type": "display_data"
    }
   ],
   "source": [
    "database.isna().sum().plot(kind = 'bar')"
   ]
  },
  {
   "cell_type": "code",
   "execution_count": 18,
   "id": "12b4e824",
   "metadata": {
    "scrolled": true
   },
   "outputs": [
    {
     "data": {
      "text/plain": [
       "<AxesSubplot:>"
      ]
     },
     "execution_count": 18,
     "metadata": {},
     "output_type": "execute_result"
    },
    {
     "data": {
      "image/png": "[encoded data removed]",
      "text/plain": [
       "<Figure size 432x288 with 1 Axes>"
      ]
     },
     "metadata": {
      "needs_background": "light"
     },
     "output_type": "display_data"
    }
   ],
   "source": [
    "df.isna().sum().plot(kind = 'bar')"
   ]
  },
  {
   "cell_type": "code",
   "execution_count": 19,
   "id": "583ba2b1",
   "metadata": {},
   "outputs": [],
   "source": [
    "def extract_text(url):\n",
    "    import pytesseract \n",
    "    from PIL import Image\n",
    "    \n",
    "    \"\"\"extracts test out of image\n",
    "    --inputs= image_url \"\"\"\n",
    "    #opening the image\n",
    "    im=Image.open(url)\n",
    "    grey= im.convert(mode=\"L\")\n",
    "    #threshold= 160\n",
    "    #image=grey.point(lambda x: 255 if x > threshold else 0)\n",
    "    \n",
    "    #configuration for pytesseract to operate with text extraction\n",
    "    config = ('-l eng --oem 1 --psm 3')\n",
    "    text = pytesseract.image_to_string(grey, config=config)\n",
    "    \n",
    "    return text"
   ]
  },
  {
   "cell_type": "code",
   "execution_count": 22,
   "id": "03aa60d5",
   "metadata": {},
   "outputs": [
    {
     "ename": "TesseractNotFoundError",
     "evalue": "C:\\Program Files\\Tesseract-OCR\\tesseract.exe is not installed or it's not in your PATH. See README file for more information.",
     "output_type": "error",
     "traceback": [
      "\u001b[1;31m---------------------------------------------------------------------------\u001b[0m",
      "\u001b[1;31mFileNotFoundError\u001b[0m                         Traceback (most recent call last)",
      "File \u001b[1;32m~\\anaconda3\\lib\\site-packages\\pytesseract\\pytesseract.py:254\u001b[0m, in \u001b[0;36mrun_tesseract\u001b[1;34m(input_filename, output_filename_base, extension, lang, config, nice, timeout)\u001b[0m\n\u001b[0;32m    253\u001b[0m \u001b[38;5;28;01mtry\u001b[39;00m:\n\u001b[1;32m--> 254\u001b[0m     proc \u001b[38;5;241m=\u001b[39m subprocess\u001b[38;5;241m.\u001b[39mPopen(cmd_args, \u001b[38;5;241m*\u001b[39m\u001b[38;5;241m*\u001b[39msubprocess_args())\n\u001b[0;32m    255\u001b[0m \u001b[38;5;28;01mexcept\u001b[39;00m \u001b[38;5;167;01mOSError\u001b[39;00m \u001b[38;5;28;01mas\u001b[39;00m e:\n",
      "File \u001b[1;32m~\\anaconda3\\lib\\subprocess.py:951\u001b[0m, in \u001b[0;36mPopen.__init__\u001b[1;34m(self, args, bufsize, executable, stdin, stdout, stderr, preexec_fn, close_fds, shell, cwd, env, universal_newlines, startupinfo, creationflags, restore_signals, start_new_session, pass_fds, user, group, extra_groups, encoding, errors, text, umask)\u001b[0m\n\u001b[0;32m    948\u001b[0m             \u001b[38;5;28mself\u001b[39m\u001b[38;5;241m.\u001b[39mstderr \u001b[38;5;241m=\u001b[39m io\u001b[38;5;241m.\u001b[39mTextIOWrapper(\u001b[38;5;28mself\u001b[39m\u001b[38;5;241m.\u001b[39mstderr,\n\u001b[0;32m    949\u001b[0m                     encoding\u001b[38;5;241m=\u001b[39mencoding, errors\u001b[38;5;241m=\u001b[39merrors)\n\u001b[1;32m--> 951\u001b[0m     \u001b[38;5;28;43mself\u001b[39;49m\u001b[38;5;241;43m.\u001b[39;49m\u001b[43m_execute_child\u001b[49m\u001b[43m(\u001b[49m\u001b[43margs\u001b[49m\u001b[43m,\u001b[49m\u001b[43m \u001b[49m\u001b[43mexecutable\u001b[49m\u001b[43m,\u001b[49m\u001b[43m \u001b[49m\u001b[43mpreexec_fn\u001b[49m\u001b[43m,\u001b[49m\u001b[43m \u001b[49m\u001b[43mclose_fds\u001b[49m\u001b[43m,\u001b[49m\n\u001b[0;32m    952\u001b[0m \u001b[43m                        \u001b[49m\u001b[43mpass_fds\u001b[49m\u001b[43m,\u001b[49m\u001b[43m \u001b[49m\u001b[43mcwd\u001b[49m\u001b[43m,\u001b[49m\u001b[43m \u001b[49m\u001b[43menv\u001b[49m\u001b[43m,\u001b[49m\n\u001b[0;32m    953\u001b[0m \u001b[43m                        \u001b[49m\u001b[43mstartupinfo\u001b[49m\u001b[43m,\u001b[49m\u001b[43m \u001b[49m\u001b[43mcreationflags\u001b[49m\u001b[43m,\u001b[49m\u001b[43m \u001b[49m\u001b[43mshell\u001b[49m\u001b[43m,\u001b[49m\n\u001b[0;32m    954\u001b[0m \u001b[43m                        \u001b[49m\u001b[43mp2cread\u001b[49m\u001b[43m,\u001b[49m\u001b[43m \u001b[49m\u001b[43mp2cwrite\u001b[49m\u001b[43m,\u001b[49m\n\u001b[0;32m    955\u001b[0m \u001b[43m                        \u001b[49m\u001b[43mc2pread\u001b[49m\u001b[43m,\u001b[49m\u001b[43m \u001b[49m\u001b[43mc2pwrite\u001b[49m\u001b[43m,\u001b[49m\n\u001b[0;32m    956\u001b[0m \u001b[43m                        \u001b[49m\u001b[43merrread\u001b[49m\u001b[43m,\u001b[49m\u001b[43m \u001b[49m\u001b[43merrwrite\u001b[49m\u001b[43m,\u001b[49m\n\u001b[0;32m    957\u001b[0m \u001b[43m                        \u001b[49m\u001b[43mrestore_signals\u001b[49m\u001b[43m,\u001b[49m\n\u001b[0;32m    958\u001b[0m \u001b[43m                        \u001b[49m\u001b[43mgid\u001b[49m\u001b[43m,\u001b[49m\u001b[43m \u001b[49m\u001b[43mgids\u001b[49m\u001b[43m,\u001b[49m\u001b[43m \u001b[49m\u001b[43muid\u001b[49m\u001b[43m,\u001b[49m\u001b[43m \u001b[49m\u001b[43mumask\u001b[49m\u001b[43m,\u001b[49m\n\u001b[0;32m    959\u001b[0m \u001b[43m                        \u001b[49m\u001b[43mstart_new_session\u001b[49m\u001b[43m)\u001b[49m\n\u001b[0;32m    960\u001b[0m \u001b[38;5;28;01mexcept\u001b[39;00m:\n\u001b[0;32m    961\u001b[0m     \u001b[38;5;66;03m# Cleanup if the child failed starting.\u001b[39;00m\n",
      "File \u001b[1;32m~\\anaconda3\\lib\\subprocess.py:1420\u001b[0m, in \u001b[0;36mPopen._execute_child\u001b[1;34m(self, args, executable, preexec_fn, close_fds, pass_fds, cwd, env, startupinfo, creationflags, shell, p2cread, p2cwrite, c2pread, c2pwrite, errread, errwrite, unused_restore_signals, unused_gid, unused_gids, unused_uid, unused_umask, unused_start_new_session)\u001b[0m\n\u001b[0;32m   1419\u001b[0m \u001b[38;5;28;01mtry\u001b[39;00m:\n\u001b[1;32m-> 1420\u001b[0m     hp, ht, pid, tid \u001b[38;5;241m=\u001b[39m \u001b[43m_winapi\u001b[49m\u001b[38;5;241;43m.\u001b[39;49m\u001b[43mCreateProcess\u001b[49m\u001b[43m(\u001b[49m\u001b[43mexecutable\u001b[49m\u001b[43m,\u001b[49m\u001b[43m \u001b[49m\u001b[43margs\u001b[49m\u001b[43m,\u001b[49m\n\u001b[0;32m   1421\u001b[0m \u001b[43m                             \u001b[49m\u001b[38;5;66;43;03m# no special security\u001b[39;49;00m\n\u001b[0;32m   1422\u001b[0m \u001b[43m                             \u001b[49m\u001b[38;5;28;43;01mNone\u001b[39;49;00m\u001b[43m,\u001b[49m\u001b[43m \u001b[49m\u001b[38;5;28;43;01mNone\u001b[39;49;00m\u001b[43m,\u001b[49m\n\u001b[0;32m   1423\u001b[0m \u001b[43m                             \u001b[49m\u001b[38;5;28;43mint\u001b[39;49m\u001b[43m(\u001b[49m\u001b[38;5;129;43;01mnot\u001b[39;49;00m\u001b[43m \u001b[49m\u001b[43mclose_fds\u001b[49m\u001b[43m)\u001b[49m\u001b[43m,\u001b[49m\n\u001b[0;32m   1424\u001b[0m \u001b[43m                             \u001b[49m\u001b[43mcreationflags\u001b[49m\u001b[43m,\u001b[49m\n\u001b[0;32m   1425\u001b[0m \u001b[43m                             \u001b[49m\u001b[43menv\u001b[49m\u001b[43m,\u001b[49m\n\u001b[0;32m   1426\u001b[0m \u001b[43m                             \u001b[49m\u001b[43mcwd\u001b[49m\u001b[43m,\u001b[49m\n\u001b[0;32m   1427\u001b[0m \u001b[43m                             \u001b[49m\u001b[43mstartupinfo\u001b[49m\u001b[43m)\u001b[49m\n\u001b[0;32m   1428\u001b[0m \u001b[38;5;28;01mfinally\u001b[39;00m:\n\u001b[0;32m   1429\u001b[0m     \u001b[38;5;66;03m# Child is launched. Close the parent's copy of those pipe\u001b[39;00m\n\u001b[0;32m   1430\u001b[0m     \u001b[38;5;66;03m# handles that only the child should have open.  You need\u001b[39;00m\n\u001b[1;32m   (...)\u001b[0m\n\u001b[0;32m   1433\u001b[0m     \u001b[38;5;66;03m# pipe will not close when the child process exits and the\u001b[39;00m\n\u001b[0;32m   1434\u001b[0m     \u001b[38;5;66;03m# ReadFile will hang.\u001b[39;00m\n",
      "\u001b[1;31mFileNotFoundError\u001b[0m: [WinError 2] The system cannot find the file specified",
      "\nDuring handling of the above exception, another exception occurred:\n",
      "\u001b[1;31mTesseractNotFoundError\u001b[0m                    Traceback (most recent call last)",
      "Input \u001b[1;32mIn [22]\u001b[0m, in \u001b[0;36m<cell line: 19>\u001b[1;34m()\u001b[0m\n\u001b[0;32m     13\u001b[0m \u001b[38;5;66;03m#threshold= 160\u001b[39;00m\n\u001b[0;32m     14\u001b[0m \u001b[38;5;66;03m#image=grey.point(lambda x: 255 if x > threshold else 0)\u001b[39;00m\n\u001b[0;32m     15\u001b[0m \n\u001b[0;32m     16\u001b[0m \u001b[38;5;66;03m#configuration for pytesseract to operate with text extraction\u001b[39;00m\n\u001b[0;32m     18\u001b[0m config \u001b[38;5;241m=\u001b[39m (\u001b[38;5;124m'\u001b[39m\u001b[38;5;124m-l eng --oem 1 --psm 3\u001b[39m\u001b[38;5;124m'\u001b[39m)\n\u001b[1;32m---> 19\u001b[0m text \u001b[38;5;241m=\u001b[39m \u001b[43mpytesseract\u001b[49m\u001b[38;5;241;43m.\u001b[39;49m\u001b[43mimage_to_string\u001b[49m\u001b[43m(\u001b[49m\u001b[43mgrey\u001b[49m\u001b[43m,\u001b[49m\u001b[43m \u001b[49m\u001b[43mconfig\u001b[49m\u001b[38;5;241;43m=\u001b[39;49m\u001b[43mconfig\u001b[49m\u001b[43m)\u001b[49m\n\u001b[0;32m     21\u001b[0m boxes \u001b[38;5;241m=\u001b[39m pytesseract\u001b[38;5;241m.\u001b[39mimage_to_data(im,output_type\u001b[38;5;241m=\u001b[39mpytesseract\u001b[38;5;241m.\u001b[39mOutput\u001b[38;5;241m.\u001b[39mDATAFRAME)\n",
      "File \u001b[1;32m~\\anaconda3\\lib\\site-packages\\pytesseract\\pytesseract.py:416\u001b[0m, in \u001b[0;36mimage_to_string\u001b[1;34m(image, lang, config, nice, output_type, timeout)\u001b[0m\n\u001b[0;32m    411\u001b[0m \u001b[38;5;124;03m\"\"\"\u001b[39;00m\n\u001b[0;32m    412\u001b[0m \u001b[38;5;124;03mReturns the result of a Tesseract OCR run on the provided image to string\u001b[39;00m\n\u001b[0;32m    413\u001b[0m \u001b[38;5;124;03m\"\"\"\u001b[39;00m\n\u001b[0;32m    414\u001b[0m args \u001b[38;5;241m=\u001b[39m [image, \u001b[38;5;124m'\u001b[39m\u001b[38;5;124mtxt\u001b[39m\u001b[38;5;124m'\u001b[39m, lang, config, nice, timeout]\n\u001b[1;32m--> 416\u001b[0m \u001b[38;5;28;01mreturn\u001b[39;00m \u001b[43m{\u001b[49m\n\u001b[0;32m    417\u001b[0m \u001b[43m    \u001b[49m\u001b[43mOutput\u001b[49m\u001b[38;5;241;43m.\u001b[39;49m\u001b[43mBYTES\u001b[49m\u001b[43m:\u001b[49m\u001b[43m \u001b[49m\u001b[38;5;28;43;01mlambda\u001b[39;49;00m\u001b[43m:\u001b[49m\u001b[43m \u001b[49m\u001b[43mrun_and_get_output\u001b[49m\u001b[43m(\u001b[49m\u001b[38;5;241;43m*\u001b[39;49m\u001b[43m(\u001b[49m\u001b[43margs\u001b[49m\u001b[43m \u001b[49m\u001b[38;5;241;43m+\u001b[39;49m\u001b[43m \u001b[49m\u001b[43m[\u001b[49m\u001b[38;5;28;43;01mTrue\u001b[39;49;00m\u001b[43m]\u001b[49m\u001b[43m)\u001b[49m\u001b[43m)\u001b[49m\u001b[43m,\u001b[49m\n\u001b[0;32m    418\u001b[0m \u001b[43m    \u001b[49m\u001b[43mOutput\u001b[49m\u001b[38;5;241;43m.\u001b[39;49m\u001b[43mDICT\u001b[49m\u001b[43m:\u001b[49m\u001b[43m \u001b[49m\u001b[38;5;28;43;01mlambda\u001b[39;49;00m\u001b[43m:\u001b[49m\u001b[43m \u001b[49m\u001b[43m{\u001b[49m\u001b[38;5;124;43m'\u001b[39;49m\u001b[38;5;124;43mtext\u001b[39;49m\u001b[38;5;124;43m'\u001b[39;49m\u001b[43m:\u001b[49m\u001b[43m \u001b[49m\u001b[43mrun_and_get_output\u001b[49m\u001b[43m(\u001b[49m\u001b[38;5;241;43m*\u001b[39;49m\u001b[43margs\u001b[49m\u001b[43m)\u001b[49m\u001b[43m}\u001b[49m\u001b[43m,\u001b[49m\n\u001b[0;32m    419\u001b[0m \u001b[43m    \u001b[49m\u001b[43mOutput\u001b[49m\u001b[38;5;241;43m.\u001b[39;49m\u001b[43mSTRING\u001b[49m\u001b[43m:\u001b[49m\u001b[43m \u001b[49m\u001b[38;5;28;43;01mlambda\u001b[39;49;00m\u001b[43m:\u001b[49m\u001b[43m \u001b[49m\u001b[43mrun_and_get_output\u001b[49m\u001b[43m(\u001b[49m\u001b[38;5;241;43m*\u001b[39;49m\u001b[43margs\u001b[49m\u001b[43m)\u001b[49m\u001b[43m,\u001b[49m\n\u001b[0;32m    420\u001b[0m \u001b[43m\u001b[49m\u001b[43m}\u001b[49m\u001b[43m[\u001b[49m\u001b[43moutput_type\u001b[49m\u001b[43m]\u001b[49m\u001b[43m(\u001b[49m\u001b[43m)\u001b[49m\n",
      "File \u001b[1;32m~\\anaconda3\\lib\\site-packages\\pytesseract\\pytesseract.py:419\u001b[0m, in \u001b[0;36mimage_to_string.<locals>.<lambda>\u001b[1;34m()\u001b[0m\n\u001b[0;32m    411\u001b[0m \u001b[38;5;124;03m\"\"\"\u001b[39;00m\n\u001b[0;32m    412\u001b[0m \u001b[38;5;124;03mReturns the result of a Tesseract OCR run on the provided image to string\u001b[39;00m\n\u001b[0;32m    413\u001b[0m \u001b[38;5;124;03m\"\"\"\u001b[39;00m\n\u001b[0;32m    414\u001b[0m args \u001b[38;5;241m=\u001b[39m [image, \u001b[38;5;124m'\u001b[39m\u001b[38;5;124mtxt\u001b[39m\u001b[38;5;124m'\u001b[39m, lang, config, nice, timeout]\n\u001b[0;32m    416\u001b[0m \u001b[38;5;28;01mreturn\u001b[39;00m {\n\u001b[0;32m    417\u001b[0m     Output\u001b[38;5;241m.\u001b[39mBYTES: \u001b[38;5;28;01mlambda\u001b[39;00m: run_and_get_output(\u001b[38;5;241m*\u001b[39m(args \u001b[38;5;241m+\u001b[39m [\u001b[38;5;28;01mTrue\u001b[39;00m])),\n\u001b[0;32m    418\u001b[0m     Output\u001b[38;5;241m.\u001b[39mDICT: \u001b[38;5;28;01mlambda\u001b[39;00m: {\u001b[38;5;124m'\u001b[39m\u001b[38;5;124mtext\u001b[39m\u001b[38;5;124m'\u001b[39m: run_and_get_output(\u001b[38;5;241m*\u001b[39margs)},\n\u001b[1;32m--> 419\u001b[0m     Output\u001b[38;5;241m.\u001b[39mSTRING: \u001b[38;5;28;01mlambda\u001b[39;00m: \u001b[43mrun_and_get_output\u001b[49m\u001b[43m(\u001b[49m\u001b[38;5;241;43m*\u001b[39;49m\u001b[43margs\u001b[49m\u001b[43m)\u001b[49m,\n\u001b[0;32m    420\u001b[0m }[output_type]()\n",
      "File \u001b[1;32m~\\anaconda3\\lib\\site-packages\\pytesseract\\pytesseract.py:286\u001b[0m, in \u001b[0;36mrun_and_get_output\u001b[1;34m(image, extension, lang, config, nice, timeout, return_bytes)\u001b[0m\n\u001b[0;32m    275\u001b[0m \u001b[38;5;28;01mwith\u001b[39;00m save(image) \u001b[38;5;28;01mas\u001b[39;00m (temp_name, input_filename):\n\u001b[0;32m    276\u001b[0m     kwargs \u001b[38;5;241m=\u001b[39m {\n\u001b[0;32m    277\u001b[0m         \u001b[38;5;124m'\u001b[39m\u001b[38;5;124minput_filename\u001b[39m\u001b[38;5;124m'\u001b[39m: input_filename,\n\u001b[0;32m    278\u001b[0m         \u001b[38;5;124m'\u001b[39m\u001b[38;5;124moutput_filename_base\u001b[39m\u001b[38;5;124m'\u001b[39m: temp_name,\n\u001b[1;32m   (...)\u001b[0m\n\u001b[0;32m    283\u001b[0m         \u001b[38;5;124m'\u001b[39m\u001b[38;5;124mtimeout\u001b[39m\u001b[38;5;124m'\u001b[39m: timeout,\n\u001b[0;32m    284\u001b[0m     }\n\u001b[1;32m--> 286\u001b[0m     run_tesseract(\u001b[38;5;241m*\u001b[39m\u001b[38;5;241m*\u001b[39mkwargs)\n\u001b[0;32m    287\u001b[0m     filename \u001b[38;5;241m=\u001b[39m kwargs[\u001b[38;5;124m'\u001b[39m\u001b[38;5;124moutput_filename_base\u001b[39m\u001b[38;5;124m'\u001b[39m] \u001b[38;5;241m+\u001b[39m extsep \u001b[38;5;241m+\u001b[39m extension\n\u001b[0;32m    288\u001b[0m     \u001b[38;5;28;01mwith\u001b[39;00m \u001b[38;5;28mopen\u001b[39m(filename, \u001b[38;5;124m'\u001b[39m\u001b[38;5;124mrb\u001b[39m\u001b[38;5;124m'\u001b[39m) \u001b[38;5;28;01mas\u001b[39;00m output_file:\n",
      "File \u001b[1;32m~\\anaconda3\\lib\\site-packages\\pytesseract\\pytesseract.py:258\u001b[0m, in \u001b[0;36mrun_tesseract\u001b[1;34m(input_filename, output_filename_base, extension, lang, config, nice, timeout)\u001b[0m\n\u001b[0;32m    256\u001b[0m     \u001b[38;5;28;01mif\u001b[39;00m e\u001b[38;5;241m.\u001b[39merrno \u001b[38;5;241m!=\u001b[39m ENOENT:\n\u001b[0;32m    257\u001b[0m         \u001b[38;5;28;01mraise\u001b[39;00m e\n\u001b[1;32m--> 258\u001b[0m     \u001b[38;5;28;01mraise\u001b[39;00m TesseractNotFoundError()\n\u001b[0;32m    260\u001b[0m \u001b[38;5;28;01mwith\u001b[39;00m timeout_manager(proc, timeout) \u001b[38;5;28;01mas\u001b[39;00m error_string:\n\u001b[0;32m    261\u001b[0m     \u001b[38;5;28;01mif\u001b[39;00m proc\u001b[38;5;241m.\u001b[39mreturncode:\n",
      "\u001b[1;31mTesseractNotFoundError\u001b[0m: C:\\Program Files\\Tesseract-OCR\\tesseract.exe is not installed or it's not in your PATH. See README file for more information."
     ]
    }
   ],
   "source": [
    "import pytesseract \n",
    "from PIL import Image\n",
    "\n",
    "\"\"\"extracts test out of image\n",
    "--inputs= image_url \"\"\"\n",
    "\n",
    "url=(r\"images/large-receipt-image-dataset-SRD/1000-receipt.jpg\")\n",
    "\n",
    "#opening the image\n",
    "#pytesseract.pytesseract.tesseract_cmd = r'C:\\Program Files\\Tesseract-OCR\\tesseract.exe'\n",
    "im=Image.open(url)\n",
    "grey= im.convert(mode=\"L\")\n",
    "#threshold= 160\n",
    "#image=grey.point(lambda x: 255 if x > threshold else 0)\n",
    "\n",
    "#configuration for pytesseract to operate with text extraction\n",
    "\n",
    "config = ('-l eng --oem 1 --psm 3')\n",
    "text = pytesseract.image_to_string(grey, config=config)\n",
    "\n",
    "boxes = pytesseract.image_to_data(im,output_type=pytesseract.Output.DATAFRAME)\n",
    "\n"
   ]
  },
  {
   "cell_type": "code",
   "execution_count": null,
   "id": "ba3b5699",
   "metadata": {},
   "outputs": [],
   "source": [
    "boxes[boxes['text'] == '3.00']"
   ]
  },
  {
   "cell_type": "code",
   "execution_count": 42,
   "id": "d8809b33",
   "metadata": {},
   "outputs": [
    {
     "data": {
      "text/html": [
       "<div>\n",
       "<style scoped>\n",
       "    .dataframe tbody tr th:only-of-type {\n",
       "        vertical-align: middle;\n",
       "    }\n",
       "\n",
       "    .dataframe tbody tr th {\n",
       "        vertical-align: top;\n",
       "    }\n",
       "\n",
       "    .dataframe thead th {\n",
       "        text-align: right;\n",
       "    }\n",
       "</style>\n",
       "<table border=\"1\" class=\"dataframe\">\n",
       "  <thead>\n",
       "    <tr style=\"text-align: right;\">\n",
       "      <th></th>\n",
       "      <th>level</th>\n",
       "      <th>page_num</th>\n",
       "      <th>block_num</th>\n",
       "      <th>par_num</th>\n",
       "      <th>line_num</th>\n",
       "      <th>word_num</th>\n",
       "      <th>left</th>\n",
       "      <th>top</th>\n",
       "      <th>width</th>\n",
       "      <th>height</th>\n",
       "      <th>conf</th>\n",
       "      <th>text</th>\n",
       "    </tr>\n",
       "  </thead>\n",
       "  <tbody>\n",
       "    <tr>\n",
       "      <th>52</th>\n",
       "      <td>5</td>\n",
       "      <td>1</td>\n",
       "      <td>4</td>\n",
       "      <td>1</td>\n",
       "      <td>3</td>\n",
       "      <td>2</td>\n",
       "      <td>192</td>\n",
       "      <td>539</td>\n",
       "      <td>68</td>\n",
       "      <td>19</td>\n",
       "      <td>88.761948</td>\n",
       "      <td>Coffee</td>\n",
       "    </tr>\n",
       "  </tbody>\n",
       "</table>\n",
       "</div>"
      ],
      "text/plain": [
       "    level  page_num  block_num  par_num  line_num  word_num  left  top  width  \\\n",
       "52      5         1          4        1         3         2   192  539     68   \n",
       "\n",
       "    height       conf    text  \n",
       "52      19  88.761948  Coffee  "
      ]
     },
     "execution_count": 42,
     "metadata": {},
     "output_type": "execute_result"
    }
   ],
   "source": [
    "boxes[boxes['text'] == 'Coffee']"
   ]
  },
  {
   "cell_type": "code",
   "execution_count": 45,
   "id": "322dd94c",
   "metadata": {},
   "outputs": [
    {
     "data": {
      "text/plain": [
       "4    33\n",
       "2    19\n",
       "1    10\n",
       "3     7\n",
       "6     6\n",
       "5     5\n",
       "8     5\n",
       "7     4\n",
       "0     1\n",
       "Name: block_num, dtype: int64"
      ]
     },
     "execution_count": 45,
     "metadata": {},
     "output_type": "execute_result"
    }
   ],
   "source": [
    "boxes.block_num.value_counts()"
   ]
  },
  {
   "cell_type": "code",
   "execution_count": 2,
   "id": "05ab37eb",
   "metadata": {},
   "outputs": [],
   "source": []
  },
  {
   "cell_type": "code",
   "execution_count": 3,
   "id": "d40af7c7-d8e2-4f61-9a3e-7a0208121292",
   "metadata": {},
   "outputs": [
    {
     "name": "stdout",
     "output_type": "stream",
     "text": [
      "Help on module functions:\n",
      "\n",
      "NAME\n",
      "    functions\n",
      "\n",
      "FUNCTIONS\n",
      "    extract_data(text)\n",
      "    \n",
      "    extract_text(url)\n",
      "\n",
      "DATA\n",
      "    url = 'ss'\n",
      "\n",
      "FILE\n",
      "    c:\\users\\consultant\\documents\\github\\scotia-bank-reciept-processing-and-budget-forcasting\\functions.py\n",
      "\n",
      "\n"
     ]
    }
   ],
   "source": [
    "help (functions)"
   ]
  },
  {
   "cell_type": "code",
   "execution_count": 1,
   "id": "00ddb99e-6f38-4894-ad24-4a029defd2f6",
   "metadata": {},
   "outputs": [],
   "source": [
    "import functions "
   ]
  },
  {
   "cell_type": "code",
   "execution_count": 2,
   "id": "6df8ec37-9c69-4072-97f4-a93dbd0d85aa",
   "metadata": {},
   "outputs": [
    {
     "ename": "AttributeError",
     "evalue": "'NoneType' object has no attribute 'reshape'",
     "output_type": "error",
     "traceback": [
      "\u001b[1;31m---------------------------------------------------------------------------\u001b[0m",
      "\u001b[1;31mAttributeError\u001b[0m                            Traceback (most recent call last)",
      "Input \u001b[1;32mIn [2]\u001b[0m, in \u001b[0;36m<cell line: 1>\u001b[1;34m()\u001b[0m\n\u001b[1;32m----> 1\u001b[0m text\u001b[38;5;241m=\u001b[39m\u001b[43mfunctions\u001b[49m\u001b[38;5;241;43m.\u001b[39;49m\u001b[43mextract_text\u001b[49m\u001b[43m(\u001b[49m\u001b[38;5;124;43mr\u001b[39;49m\u001b[38;5;124;43m\"\u001b[39;49m\u001b[38;5;124;43mimages/large-receipt-image-dataset-SRD/1011-receipt.jpg\u001b[39;49m\u001b[38;5;124;43m\"\u001b[39;49m\u001b[43m)\u001b[49m\n",
      "File \u001b[1;32m~\\Documents\\GitHub\\scotia-bank-reciept-processing-and-budget-forcasting\\functions.py:96\u001b[0m, in \u001b[0;36mextract_text\u001b[1;34m(url)\u001b[0m\n\u001b[0;32m     93\u001b[0m receipt_contour \u001b[38;5;241m=\u001b[39m get_receipt_contour(largest_contours)\n\u001b[0;32m     95\u001b[0m \u001b[38;5;66;03m#image_with_receipt_contour = cv2.drawContours(frame.copy(), [receipt_contour], -1, (0, 255, 0), 2)\u001b[39;00m\n\u001b[1;32m---> 96\u001b[0m scanned \u001b[38;5;241m=\u001b[39m wrap_perspective(frame\u001b[38;5;241m.\u001b[39mcopy(), \u001b[43mcontour_to_rect\u001b[49m\u001b[43m(\u001b[49m\u001b[43mreceipt_contour\u001b[49m\u001b[43m)\u001b[49m)\n\u001b[0;32m     98\u001b[0m \u001b[38;5;66;03m#threshold= 160\u001b[39;00m\n\u001b[0;32m     99\u001b[0m \u001b[38;5;66;03m#image=grey.point(lambda x: 255 if x > threshold else 0)\u001b[39;00m\n\u001b[0;32m    100\u001b[0m \n\u001b[0;32m    101\u001b[0m \u001b[38;5;66;03m#configuration for pytesseract to operate with text extraction\u001b[39;00m\n\u001b[0;32m    102\u001b[0m \u001b[38;5;28;01mfor\u001b[39;00m i \u001b[38;5;129;01min\u001b[39;00m \u001b[38;5;28mrange\u001b[39m(n_boxes):\n",
      "File \u001b[1;32m~\\Documents\\GitHub\\scotia-bank-reciept-processing-and-budget-forcasting\\functions.py:13\u001b[0m, in \u001b[0;36mcontour_to_rect\u001b[1;34m(contour)\u001b[0m\n\u001b[0;32m     12\u001b[0m \u001b[38;5;28;01mdef\u001b[39;00m \u001b[38;5;21mcontour_to_rect\u001b[39m(contour):\n\u001b[1;32m---> 13\u001b[0m     pts \u001b[38;5;241m=\u001b[39m \u001b[43mcontour\u001b[49m\u001b[38;5;241;43m.\u001b[39;49m\u001b[43mreshape\u001b[49m(\u001b[38;5;241m4\u001b[39m, \u001b[38;5;241m2\u001b[39m)\n\u001b[0;32m     14\u001b[0m     rect \u001b[38;5;241m=\u001b[39m np\u001b[38;5;241m.\u001b[39mzeros((\u001b[38;5;241m4\u001b[39m, \u001b[38;5;241m2\u001b[39m), dtype \u001b[38;5;241m=\u001b[39m \u001b[38;5;124m\"\u001b[39m\u001b[38;5;124mfloat32\u001b[39m\u001b[38;5;124m\"\u001b[39m)\n\u001b[0;32m     15\u001b[0m     \u001b[38;5;66;03m# top-left point has the smallest sum\u001b[39;00m\n\u001b[0;32m     16\u001b[0m     \u001b[38;5;66;03m# bottom-right has the largest sum\u001b[39;00m\n",
      "\u001b[1;31mAttributeError\u001b[0m: 'NoneType' object has no attribute 'reshape'"
     ]
    }
   ],
   "source": [
    "text=functions.extract_text(r\"images/large-receipt-image-dataset-SRD/1011-receipt.jpg\")"
   ]
  },
  {
   "cell_type": "code",
   "execution_count": 3,
   "id": "76cc8956-2b2f-4c6f-9bce-12ed03bc068b",
   "metadata": {},
   "outputs": [
    {
     "data": {
      "text/html": [
       "<div>\n",
       "<style scoped>\n",
       "    .dataframe tbody tr th:only-of-type {\n",
       "        vertical-align: middle;\n",
       "    }\n",
       "\n",
       "    .dataframe tbody tr th {\n",
       "        vertical-align: top;\n",
       "    }\n",
       "\n",
       "    .dataframe thead th {\n",
       "        text-align: right;\n",
       "    }\n",
       "</style>\n",
       "<table border=\"1\" class=\"dataframe\">\n",
       "  <thead>\n",
       "    <tr style=\"text-align: right;\">\n",
       "      <th></th>\n",
       "      <th>Zipcode</th>\n",
       "      <th>Latitude</th>\n",
       "      <th>Longitude</th>\n",
       "      <th>Address</th>\n",
       "      <th>prices</th>\n",
       "      <th>time</th>\n",
       "    </tr>\n",
       "  </thead>\n",
       "  <tbody>\n",
       "    <tr>\n",
       "      <th>0</th>\n",
       "      <td>NaN</td>\n",
       "      <td>NaN</td>\n",
       "      <td>NaN</td>\n",
       "      <td>NaN</td>\n",
       "      <td>NaN</td>\n",
       "      <td>NaN</td>\n",
       "    </tr>\n",
       "  </tbody>\n",
       "</table>\n",
       "</div>"
      ],
      "text/plain": [
       "   Zipcode  Latitude  Longitude  Address  prices  time\n",
       "0      NaN       NaN        NaN      NaN     NaN   NaN"
      ]
     },
     "execution_count": 3,
     "metadata": {},
     "output_type": "execute_result"
    }
   ],
   "source": [
    "data=functions.extract_data(text)\n",
    "data"
   ]
  },
  {
   "cell_type": "code",
   "execution_count": null,
   "id": "b771fb45-1669-46bc-bd19-48bca9301462",
   "metadata": {},
   "outputs": [],
   "source": []
  },
  {
   "cell_type": "code",
   "execution_count": 4,
   "id": "eca60ddb-b47a-4926-aec6-9cab79f35604",
   "metadata": {},
   "outputs": [],
   "source": [
    "import numpy as np\n",
    "def contour_to_rect(contour):\n",
    "    \n",
    "    pts = contour.reshape(4,2)\n",
    "    rect = np.zeros((4, 2), dtype = \"float32\")\n",
    "    # top-left point has the smallest sum\n",
    "    # bottom-right has the largest sum\n",
    "    s = pts.sum(axis = 1)\n",
    "    rect[0] = pts[np.argmin(s)]\n",
    "    rect[2] = pts[np.argmax(s)]\n",
    "    # compute the difference between the points:\n",
    "    # the top-right will have the minumum difference \n",
    "    # the bottom-left will have the maximum difference\n",
    "    diff = np.diff(pts, axis = 1)\n",
    "    rect[1] = pts[np.argmin(diff)]\n",
    "    rect[3] = pts[np.argmax(diff)]\n",
    "    return rect / resize_ratio\n",
    "\n",
    "def wrap_perspective(img, rect):\n",
    "    # unpack rectangle points: top left, top right, bottom right, bottom left\n",
    "    (tl, tr, br, bl) = rect\n",
    "    # compute the width of the new image\n",
    "    widthA = np.sqrt(((br[0] - bl[0]) ** 2) + ((br[1] - bl[1]) ** 2))\n",
    "    widthB = np.sqrt(((tr[0] - tl[0]) ** 2) + ((tr[1] - tl[1]) ** 2))\n",
    "    # compute the height of the new image\n",
    "    heightA = np.sqrt(((tr[0] - br[0]) ** 2) + ((tr[1] - br[1]) ** 2))\n",
    "    heightB = np.sqrt(((tl[0] - bl[0]) ** 2) + ((tl[1] - bl[1]) ** 2))\n",
    "    # take the maximum of the width and height values to reach\n",
    "    # our final dimensions\n",
    "    maxWidth = max(int(widthA), int(widthB))\n",
    "    maxHeight = max(int(heightA), int(heightB))\n",
    "    # destination points which will be used to map the screen to a \"scanned\" view\n",
    "    dst = np.array([\n",
    "        [0, 0],\n",
    "        [maxWidth - 1, 0],\n",
    "        [maxWidth - 1, maxHeight - 1],\n",
    "        [0, maxHeight - 1]], dtype = \"float32\")\n",
    "    # calculate the perspective transform matrix\n",
    "    M = cv2.getPerspectiveTransform(rect, dst)\n",
    "    # warp the perspective to grab the screen\n",
    "    return cv2.warpPerspective(img, M, (maxWidth, maxHeight))\n",
    "\n",
    "\n",
    "def opencv_resize(image, ratio):\n",
    "    width = int(image.shape[1] * ratio)\n",
    "    height = int(image.shape[0] * ratio)\n",
    "    dim = (width, height)\n",
    "    return cv2.resize(image, dim, interpolation = cv2.INTER_AREA)"
   ]
  },
  {
   "cell_type": "code",
   "execution_count": 10,
   "id": "9097bc45-e55b-4466-824e-3dc1e2a067a5",
   "metadata": {},
   "outputs": [],
   "source": [
    "def extract_text(url):\n",
    "    import pytesseract \n",
    "    from PIL import Image\n",
    "    import numpy as np\n",
    "    import cv2\n",
    "    \"\"\"extracts test out of image\n",
    "    --inputs= image_url \"\"\"\n",
    "    #opening the image\n",
    "    \n",
    "\n",
    "    frame=cv2.imread(url)\n",
    "    #grey= im.convert(mode=\"L\")\n",
    "    resize_ratio = 500 / frame.shape[0]\n",
    "    \n",
    "    original = frame.copy()\n",
    "    \n",
    "    image = opencv_resize(frame, resize_ratio)\n",
    "    \n",
    "    frame = cv2.resize(frame, None, fx=0.5, fy=0.5, interpolation=cv2.INTER_AREA)\n",
    "    \n",
    "    frame = cv2.cvtColor(frame, cv2.COLOR_BGR2GRAY)\n",
    "    \n",
    "    d = pytesseract.image_to_data(frame, output_type=pytesseract.Output.DICT)\n",
    "    n_boxes = len(d['level'])  \n",
    "    for i in range(n_boxes):\n",
    "        (x, y, w, h) = (d['left'][i], d['top'][i], d['width'][i], d['height'][i])\n",
    "    boxes = cv2.rectangle(boxes, (x, y), (x + w, y + h), (0, 255, 0), 2)\n",
    "    \n",
    "\n",
    "    \n",
    "    blurred = cv2.GaussianBlur(frame, (5, 5), 0)\n",
    "    rectKernel = cv2.getStructuringElement(cv2.MORPH_RECT, (9, 9))\n",
    "    dilated = cv2.dilate(blurred, rectKernel)\n",
    "    edged = cv2.Canny(dilated, 100, 200, apertureSize=3)\n",
    "    contours, hierarchy = cv2.findContours(edged, cv2.RETR_TREE, cv2.CHAIN_APPROX_SIMPLE)\n",
    "    largest_contours = sorted(contours, key = cv2.contourArea, reverse = True)[0]\n",
    "    \n",
    "    image_with_largest_contours = cv2.drawContours(frame.copy(), largest_contours, -1, (0,255,0), 2)\n",
    "    def approximate_contour(contour):\n",
    "        peri = cv2.arcLength(contour, True)\n",
    "        return cv2.approxPolyDP(contour, 0.032 * peri, True)\n",
    "    \n",
    "    def get_receipt_contour(contours):    \n",
    "    # loop over the contours\n",
    "        for c in contours:\n",
    "            approx = approximate_contour(c)\n",
    "            # if our approximated contour has four points, we can assume it is receipt's rectangle\n",
    "            if len(approx) == 4:\n",
    "                return approx\n",
    "        \n",
    "    receipt_contour = get_receipt_contour(largest_contours)\n",
    "    print (receipt_contour)\n",
    "    \n",
    "    #image_with_receipt_contour = cv2.drawContours(frame.copy(), [receipt_contour], -1, (0, 255, 0), 2)\n",
    "    scanned = wrap_perspective(origional.copy(), contour_to_rect(receipt_contour))\n",
    "    \n",
    "\n",
    "    \n",
    "    \n",
    "    config = ('-l eng --oem 1 --psm 3')\n",
    "    text = pytesseract.image_to_string(image_with_largest_contours , config=config)\n",
    "    \n",
    "    return text\n"
   ]
  },
  {
   "cell_type": "code",
   "execution_count": 11,
   "id": "27bd89ad-3006-47e5-90db-299c6eea87f8",
   "metadata": {},
   "outputs": [
    {
     "ename": "NameError",
     "evalue": "name 'cv2' is not defined",
     "output_type": "error",
     "traceback": [
      "\u001b[1;31m---------------------------------------------------------------------------\u001b[0m",
      "\u001b[1;31mNameError\u001b[0m                                 Traceback (most recent call last)",
      "Input \u001b[1;32mIn [11]\u001b[0m, in \u001b[0;36m<cell line: 1>\u001b[1;34m()\u001b[0m\n\u001b[1;32m----> 1\u001b[0m \u001b[43mextract_text\u001b[49m\u001b[43m(\u001b[49m\u001b[38;5;124;43mr\u001b[39;49m\u001b[38;5;124;43m\"\u001b[39;49m\u001b[38;5;124;43mimages/large-receipt-image-dataset-SRD/1011-receipt.jpg\u001b[39;49m\u001b[38;5;124;43m\"\u001b[39;49m\u001b[43m)\u001b[49m\n",
      "Input \u001b[1;32mIn [10]\u001b[0m, in \u001b[0;36mextract_text\u001b[1;34m(url)\u001b[0m\n\u001b[0;32m     13\u001b[0m resize_ratio \u001b[38;5;241m=\u001b[39m \u001b[38;5;241m500\u001b[39m \u001b[38;5;241m/\u001b[39m frame\u001b[38;5;241m.\u001b[39mshape[\u001b[38;5;241m0\u001b[39m]\n\u001b[0;32m     14\u001b[0m original \u001b[38;5;241m=\u001b[39m frame\u001b[38;5;241m.\u001b[39mcopy()\n\u001b[1;32m---> 15\u001b[0m image \u001b[38;5;241m=\u001b[39m \u001b[43mopencv_resize\u001b[49m\u001b[43m(\u001b[49m\u001b[43mframe\u001b[49m\u001b[43m,\u001b[49m\u001b[43m \u001b[49m\u001b[43mresize_ratio\u001b[49m\u001b[43m)\u001b[49m\n\u001b[0;32m     16\u001b[0m frame \u001b[38;5;241m=\u001b[39m cv2\u001b[38;5;241m.\u001b[39mresize(frame, \u001b[38;5;28;01mNone\u001b[39;00m, fx\u001b[38;5;241m=\u001b[39m\u001b[38;5;241m0.5\u001b[39m, fy\u001b[38;5;241m=\u001b[39m\u001b[38;5;241m0.5\u001b[39m, interpolation\u001b[38;5;241m=\u001b[39mcv2\u001b[38;5;241m.\u001b[39mINTER_AREA)\n\u001b[0;32m     17\u001b[0m frame \u001b[38;5;241m=\u001b[39m cv2\u001b[38;5;241m.\u001b[39mcvtColor(frame, cv2\u001b[38;5;241m.\u001b[39mCOLOR_BGR2GRAY) \n",
      "Input \u001b[1;32mIn [4]\u001b[0m, in \u001b[0;36mopencv_resize\u001b[1;34m(image, ratio)\u001b[0m\n\u001b[0;32m     46\u001b[0m height \u001b[38;5;241m=\u001b[39m \u001b[38;5;28mint\u001b[39m(image\u001b[38;5;241m.\u001b[39mshape[\u001b[38;5;241m0\u001b[39m] \u001b[38;5;241m*\u001b[39m ratio)\n\u001b[0;32m     47\u001b[0m dim \u001b[38;5;241m=\u001b[39m (width, height)\n\u001b[1;32m---> 48\u001b[0m \u001b[38;5;28;01mreturn\u001b[39;00m \u001b[43mcv2\u001b[49m\u001b[38;5;241m.\u001b[39mresize(image, dim, interpolation \u001b[38;5;241m=\u001b[39m cv2\u001b[38;5;241m.\u001b[39mINTER_AREA)\n",
      "\u001b[1;31mNameError\u001b[0m: name 'cv2' is not defined"
     ]
    }
   ],
   "source": [
    "extract_text(r\"images/large-receipt-image-dataset-SRD/1011-receipt.jpg\")"
   ]
  },
  {
   "cell_type": "code",
   "execution_count": null,
   "id": "a52de6f7-ee3b-482e-817e-17e0b5633a9d",
   "metadata": {},
   "outputs": [],
   "source": []
  }
 ],
 "metadata": {
  "kernelspec": {
   "display_name": "Python 3 (ipykernel)",
   "language": "python",
   "name": "python3"
  },
  "language_info": {
   "codemirror_mode": {
    "name": "ipython",
    "version": 3
   },
   "file_extension": ".py",
   "mimetype": "text/x-python",
   "name": "python",
   "nbconvert_exporter": "python",
   "pygments_lexer": "ipython3",
   "version": "3.9.12"
  }
 },
 "nbformat": 4,
 "nbformat_minor": 5
}
