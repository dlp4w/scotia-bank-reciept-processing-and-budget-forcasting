{
 "cells": [
  {
   "cell_type": "code",
   "execution_count": null,
   "id": "9000fd84-4caf-4d2f-8a8e-72fbd9e76066",
   "metadata": {},
   "outputs": [],
   "source": [
    "#!pip install pytesseract \n",
    "#!pip install opencv \n",
    "#!pip install numpy as np\n",
    "#!pip install pillow\n",
    "#!pip install postal"
   ]
  },
  {
   "cell_type": "code",
   "execution_count": null,
   "id": "72d5a4aa-174a-4967-8b1f-7add19be6804",
   "metadata": {},
   "outputs": [],
   "source": []
  },
  {
   "cell_type": "code",
   "execution_count": 79,
   "id": "1a0dc7e5-7010-4f89-b8a7-d0e0d36bb920",
   "metadata": {},
   "outputs": [],
   "source": [
    "import pytesseract \n",
    "from PIL import Image, ImageOps\n",
    "import numpy as np\n",
    "# from postal.parser import parse_address"
   ]
  },
  {
   "cell_type": "code",
   "execution_count": 68,
   "id": "2a6fd9da-0f18-40f5-b302-b7d7ec675d52",
   "metadata": {},
   "outputs": [],
   "source": [
    "\n",
    "def extract_text(url):\n",
    "    import pytesseract \n",
    "    from PIL import Image\n",
    "    \n",
    "    \"\"\"extracts test out of image\n",
    "    --inputs= image_url \"\"\"\n",
    "    #opening the image\n",
    "    im=Image.open(url)\n",
    "    grey= im.convert(mode=\"L\")\n",
    "    #threshold= 160\n",
    "    #image=grey.point(lambda x: 255 if x > threshold else 0)\n",
    "    \n",
    "    #configuration for pytesseract to operate with text extraction\n",
    "    config = ('-l eng --oem 1 --psm 3')\n",
    "    text = pytesseract.image_to_string(grey, config=config)\n",
    "    \n",
    "    return text"
   ]
  },
  {
   "cell_type": "code",
   "execution_count": 69,
   "id": "7edac29f-ddf2-4017-bab5-bf6f31c98ff6",
   "metadata": {},
   "outputs": [],
   "source": [
    "#extract address --in progress.... \n",
    "def extract_address():\n",
    "    \n",
    "#extract order\n",
    "def order():\n",
    "    \n",
    "#extract total\n",
    "def extract_total():\n",
    "    \n",
    "#makesure to have the total mapped into numbers if not extracted as a number, try to map the letters into numbers.\n",
    "\n",
    "\n",
    "\n",
    "\n"
   ]
  },
  {
   "cell_type": "code",
   "execution_count": 74,
   "id": "17329782-a490-4168-82ae-625d205fb5fa",
   "metadata": {},
   "outputs": [],
   "source": [
    "\n",
    "image=(r\"images/large-receipt-image-dataset-SRD/1016-receipt.jpg\")\n",
    "text=extract_text(image)\n"
   ]
  },
  {
   "cell_type": "code",
   "execution_count": 75,
   "id": "8a4a3e1a-c189-4f72-bff9-83ef96b114bc",
   "metadata": {},
   "outputs": [
    {
     "name": "stdout",
     "output_type": "stream",
     "text": [
      "Chef Wang\n",
      "1902 Jericho Tumpike\n",
      "New Hyde Park NY 11040\n",
      "Tel: 516 354.2858 Fax 516.776.0587\n",
      "\n",
      "[ AS ]\n",
      "\n",
      "# 1022\n",
      "\n",
      "erver: 02/02/19\n",
      "Person 02:14 PM - 03:\n",
      "\n",
      "$5.25\n",
      "\n",
      "$9.95\n",
      "\n",
      "$8.75\n",
      "\n",
      "Little Juicy Pork Buns\n",
      "Beef w Bak Choy (LL)\n",
      "Hunan Beef (1)\n",
      "\n",
      "SubTotal\n",
      "Sales Tax\n",
      "\n",
      "Total $35.52\n",
      "\n",
      "Thank You\n",
      "Have A Nice Day\n",
      "\n",
      " \n",
      "\f",
      "\n"
     ]
    }
   ],
   "source": [
    "print (text)"
   ]
  },
  {
   "cell_type": "code",
   "execution_count": null,
   "id": "d26254c9-e1e7-43ff-8813-62b09acf286f",
   "metadata": {},
   "outputs": [],
   "source": []
  }
 ],
 "metadata": {
  "kernelspec": {
   "display_name": "Python 3 (ipykernel)",
   "language": "python",
   "name": "python3"
  },
  "language_info": {
   "codemirror_mode": {
    "name": "ipython",
    "version": 3
   },
   "file_extension": ".py",
   "mimetype": "text/x-python",
   "name": "python",
   "nbconvert_exporter": "python",
   "pygments_lexer": "ipython3",
   "version": "3.9.12"
  }
 },
 "nbformat": 4,
 "nbformat_minor": 5
}
