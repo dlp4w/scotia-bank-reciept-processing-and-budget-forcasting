{
 "cells": [
  {
   "cell_type": "code",
   "execution_count": null,
   "id": "9000fd84-4caf-4d2f-8a8e-72fbd9e76066",
   "metadata": {},
   "outputs": [],
   "source": [
    "#!pip install pytesseract \n",
    "#!pip install opencv \n",
    "#!pip install numpy as np\n",
    "#!pip install pillow\n",
    "#!pip install postal"
   ]
  },
  {
   "cell_type": "code",
   "execution_count": null,
   "id": "72d5a4aa-174a-4967-8b1f-7add19be6804",
   "metadata": {},
   "outputs": [],
   "source": []
  },
  {
   "cell_type": "code",
   "execution_count": 151,
   "id": "1a0dc7e5-7010-4f89-b8a7-d0e0d36bb920",
   "metadata": {},
   "outputs": [],
   "source": [
    "import pytesseract \n",
    "from PIL import Image, ImageOps\n",
    "import numpy as np\n",
    "# from postal.parser import parse_address"
   ]
  },
  {
   "cell_type": "code",
   "execution_count": 152,
   "id": "2a6fd9da-0f18-40f5-b302-b7d7ec675d52",
   "metadata": {},
   "outputs": [],
   "source": [
    "\n",
    "def extract_text(url):\n",
    "    import pytesseract \n",
    "    from PIL import Image\n",
    "    \n",
    "    \"\"\"extracts test out of image\n",
    "    --inputs= image_url \"\"\"\n",
    "    #opening the image\n",
    "    im=Image.open(url)\n",
    "    grey= im.convert(mode=\"L\")\n",
    "    #threshold= 160\n",
    "    #image=grey.point(lambda x: 255 if x > threshold else 0)\n",
    "    \n",
    "    #configuration for pytesseract to operate with text extraction\n",
    "    config = ('-l eng --oem 1 --psm 3')\n",
    "    text = pytesseract.image_to_string(grey, config=config)\n",
    "    \n",
    "    return text"
   ]
  },
  {
   "cell_type": "code",
   "execution_count": 153,
   "id": "7edac29f-ddf2-4017-bab5-bf6f31c98ff6",
   "metadata": {},
   "outputs": [],
   "source": [
    "#extract address --in progress.... \n",
    "def extract_address(text):\n",
    "    import re\n",
    "    text=text\n",
    "    regexp = \"[0-9]{1,3} .+, .+, [A-Z]{2} [0-9]{5}\"\n",
    "    address = re.findall(regexp, text)\n",
    "    return address \n",
    "\n",
    "\n",
    "#extract order\n",
    "\n",
    "#def order():\n",
    "    \n",
    "#extract total\n",
    "\n",
    "#def extract_total():\n",
    "    \n",
    "#makesure to have the total mapped into numbers if not extracted as a number, try to map the letters into numbers.\n",
    "\n",
    "\n",
    "\n"
   ]
  },
  {
   "cell_type": "code",
   "execution_count": 154,
   "id": "17329782-a490-4168-82ae-625d205fb5fa",
   "metadata": {
    "tags": []
   },
   "outputs": [
    {
     "name": "stdout",
     "output_type": "stream",
     "text": [
      "#14\n",
      "\n",
      "HP Pho Ga\n",
      "8930 Mission Dr. #102\n",
      "pp ooee 91770\n",
      "Phone (626)268-9999\n",
      "\n",
      " \n",
      "     \n",
      "\n",
      "bate: Apr 01, 2019 Time; 05:\n",
      "\n",
      "Server: Admin\n",
      "\n",
      "Bill; 59980 Table : 14\n",
      "\n",
      "1 Pho Ga (Small) 8.00\n",
      "\n",
      "1 Pho Ga (Large) 9.00\n",
      "\n",
      "1 Gor Cuon 5.25\n",
      "“Subtotal 22.25\n",
      "TAX 211\n",
      "Total 24.36\n",
      "8. Service Gharge- 40% 8.90\n",
      "\n",
      "Total $33 26\n",
      "\n",
      "Suggested Tip : 15% (3,65)\n",
      "\n",
      "18% (4.38)\n",
      "\n",
      "20% (4.87)\n",
      "Open Time : Apr 01, 2019 04:39PM\n",
      "Printed By : Admin\n",
      "\n",
      "Thank you for Coming !\n",
      "\f",
      "\n"
     ]
    }
   ],
   "source": [
    "\n",
    "image=(r\"images/large-receipt-image-dataset-SRD/1012-receipt.jpg\")\n",
    "text=extract_text(image)\n",
    "print (text)"
   ]
  },
  {
   "cell_type": "code",
   "execution_count": 157,
   "id": "8a4a3e1a-c189-4f72-bff9-83ef96b114bc",
   "metadata": {},
   "outputs": [],
   "source": [
    "import os \n",
    "\n",
    "dir=[]\n",
    "directory=r\"images/large-receipt-image-dataset-SRD/\"\n",
    "for filename in os.listdir(directory):\n",
    "    f = os.path.join(directory, filename)\n",
    "    # checking if it is a file\n",
    "    if os.path.isfile(f):\n",
    "        dir.append(f)"
   ]
  },
  {
   "cell_type": "code",
   "execution_count": 159,
   "id": "d26254c9-e1e7-43ff-8813-62b09acf286f",
   "metadata": {},
   "outputs": [],
   "source": [
    "texts=[]\n",
    "for i in dir :\n",
    "    text=extract_text(i)\n",
    "    texts.append(text)"
   ]
  },
  {
   "cell_type": "code",
   "execution_count": 168,
   "id": "904a8a68-c30e-4cca-82e7-9c45c94f2187",
   "metadata": {},
   "outputs": [
    {
     "name": "stdout",
     "output_type": "stream",
     "text": [
      "Done\n"
     ]
    }
   ],
   "source": [
    "with open(r'text.txt', 'w',encoding=\"utf-8\") as fp:\n",
    "    for item in texts:\n",
    "        # write each item on a new line\n",
    "        fp.write(\"%s\\n\" % item)\n",
    "    print('Done')"
   ]
  },
  {
   "cell_type": "code",
   "execution_count": 170,
   "id": "20efec3a-1e65-40c8-91e3-57b6fe2e117e",
   "metadata": {},
   "outputs": [],
   "source": [
    "import pandas as pd \n",
    "df=pd.DataFrame(texts)\n",
    "df.to_csv('texts.csv')"
   ]
  },
  {
   "cell_type": "code",
   "execution_count": null,
   "id": "ed3a2793-9e26-48ad-971a-71a98c26ecc0",
   "metadata": {},
   "outputs": [],
   "source": []
  },
  {
   "cell_type": "code",
   "execution_count": null,
   "id": "db83356e-3703-4526-a268-b91e213fcc64",
   "metadata": {},
   "outputs": [],
   "source": [
    "from commonregex import CommonRegex"
   ]
  },
  {
   "cell_type": "code",
   "execution_count": null,
   "id": "7b4c3919-3b25-403f-9c78-97b238be31fa",
   "metadata": {},
   "outputs": [],
   "source": [
    "parsed_text=CommonRegex(text)"
   ]
  },
  {
   "cell_type": "code",
   "execution_count": null,
   "id": "31fe0315-cc81-4661-8ae6-1c5dfb915c6a",
   "metadata": {},
   "outputs": [],
   "source": [
    "parsed_text.times"
   ]
  },
  {
   "cell_type": "code",
   "execution_count": null,
   "id": "93fe75e4-da79-4560-af10-d3971ba4c24f",
   "metadata": {},
   "outputs": [],
   "source": [
    "parsed_text.phones"
   ]
  },
  {
   "cell_type": "code",
   "execution_count": null,
   "id": "937fc7d9-414c-4d72-80b1-1cef4a8bf64c",
   "metadata": {},
   "outputs": [],
   "source": [
    "parsed_text.street_addresses"
   ]
  },
  {
   "cell_type": "code",
   "execution_count": null,
   "id": "94908892-a342-4336-b842-1a9f5da53367",
   "metadata": {},
   "outputs": [],
   "source": [
    "import usaddress \n",
    "usaddress.parse(text)"
   ]
  },
  {
   "cell_type": "code",
   "execution_count": null,
   "id": "3e8df305-5fb9-49a3-a9e0-68187a2943a8",
   "metadata": {},
   "outputs": [],
   "source": [
    "pip install usaddress\n"
   ]
  },
  {
   "cell_type": "code",
   "execution_count": 8,
   "id": "b36cbde3-1800-491e-a19f-bdad15288726",
   "metadata": {},
   "outputs": [],
   "source": [
    "#open camera \n",
    "#add automated conturing to it\n",
    "#then add automated capture\n",
    "\n",
    "import cv2\n",
    "\n",
    "cap = cv2.VideoCapture(0)\n",
    "\n",
    "# Check if the webcam is opened correctly\n",
    "if not cap.isOpened():\n",
    "    raise IOError(\"Cannot open webcam\")\n",
    "\n",
    "\n",
    "ret, frame = cap.read()\n",
    "frame = cv2.resize(frame, None, fx=0.5, fy=0.5, interpolation=cv2.INTER_AREA)\n",
    "frame = cv2.cvtColor(frame, cv2.COLOR_BGR2GRAY) \n",
    "ret, thresh = cv2.threshold(frame, 0, 255, cv2.THRESH_OTSU | cv2.THRESH_BINARY_INV) \n",
    "contours, _ = cv2.findContours(thresh, cv2.RETR_LIST, cv2.CHAIN_APPROX_SIMPLE)\n",
    "for c in contours:\n",
    "        rect = cv2.boundingRect(c)\n",
    "        if rect[2] < 100 or rect[3] < 100: continue\n",
    "        #print cv2.contourArea(c)\n",
    "        x,y,w,h = rect\n",
    "        cv2.rectangle(frame,(x,y),(x+w,y+h),(0,255,0),2)\n",
    "        cv2.putText(frame,'Moth Detected',(x+w+10,y+h),0,0.3,(0,255,0))\n",
    "        cv2.imshow('Input', frame)\n",
    "        c = cv2.waitKey(1)\n",
    "        if c == 27:\n",
    "            break\n",
    "\n",
    "cap.release()\n",
    "cv2.destroyAllWindows()"
   ]
  },
  {
   "cell_type": "code",
   "execution_count": null,
   "id": "c2d0c67d-8028-4113-84b3-ba04209155f8",
   "metadata": {},
   "outputs": [],
   "source": [
    "blurred = cv2.GaussianBlur(gray, (5, 5), 0)\n",
    "rectKernel = cv2.getStructuringElement(cv2.MORPH_RECT, (9, 9))\n",
    "dilated = cv2.dilate(blurred, rectKernel)\n",
    "edged = cv2.Canny(dilated, 100, 200, apertureSize=3)\n",
    "contours, hierarchy = cv2.findContours(edged, cv2.RETR_TREE, cv2.CHAIN_APPROX_SIMPLE)\n",
    "image_with_contours = cv2.drawContours(image.copy(), contours, -1, (0,255,0), 3)\n",
    "largest_contours = sorted(contours, key = cv2.contourArea, reverse = True)[:10]\n",
    "image_with_largest_contours = cv2.drawContours(image.copy(), largest_contours, -1, (0,255,0), 3)\n",
    "\n",
    "largest_contours = sorted(contours, key = cv2.contourArea, reverse = True)[:10]\n",
    "image_with_largest_contours = cv2.drawContours(image.copy(), largest_contours, -1, (0,255,0), 3)\n",
    "\n",
    "def get_receipt_contour(contours):    \n",
    "    # loop over the contours\n",
    "    for c in contours:\n",
    "        approx = approximate_contour(c)\n",
    "        # if our approximated contour has four points, we can assume it is receipt's rectangle\n",
    "        if len(approx) == 4:\n",
    "            return approx\n",
    "        \n",
    "get_receipt_contour(largest_contours)"
   ]
  },
  {
   "cell_type": "markdown",
   "id": "34005452-c9cf-422d-be21-08e42a2d530b",
   "metadata": {},
   "source": [
    "# use this !!!!"
   ]
  },
  {
   "cell_type": "code",
   "execution_count": 2,
   "id": "cd77245d-ecf5-47c2-8211-9a1fb00db55a",
   "metadata": {},
   "outputs": [
    {
     "ename": "KeyboardInterrupt",
     "evalue": "",
     "output_type": "error",
     "traceback": [
      "\u001b[1;31m---------------------------------------------------------------------------\u001b[0m",
      "\u001b[1;31mKeyboardInterrupt\u001b[0m                         Traceback (most recent call last)",
      "Input \u001b[1;32mIn [2]\u001b[0m, in \u001b[0;36m<cell line: 15>\u001b[1;34m()\u001b[0m\n\u001b[0;32m     12\u001b[0m     \u001b[38;5;28;01mraise\u001b[39;00m \u001b[38;5;167;01mIOError\u001b[39;00m(\u001b[38;5;124m\"\u001b[39m\u001b[38;5;124mCannot open webcam\u001b[39m\u001b[38;5;124m\"\u001b[39m)\n\u001b[0;32m     14\u001b[0m \u001b[38;5;28;01mwhile\u001b[39;00m \u001b[38;5;28;01mTrue\u001b[39;00m:\n\u001b[1;32m---> 15\u001b[0m     ret, frame \u001b[38;5;241m=\u001b[39m \u001b[43mcap\u001b[49m\u001b[38;5;241;43m.\u001b[39;49m\u001b[43mread\u001b[49m\u001b[43m(\u001b[49m\u001b[43m)\u001b[49m\n\u001b[0;32m     16\u001b[0m     frame \u001b[38;5;241m=\u001b[39m cv2\u001b[38;5;241m.\u001b[39mresize(frame, \u001b[38;5;28;01mNone\u001b[39;00m, fx\u001b[38;5;241m=\u001b[39m\u001b[38;5;241m0.5\u001b[39m, fy\u001b[38;5;241m=\u001b[39m\u001b[38;5;241m0.5\u001b[39m, interpolation\u001b[38;5;241m=\u001b[39mcv2\u001b[38;5;241m.\u001b[39mINTER_AREA)\n\u001b[0;32m     17\u001b[0m     frame \u001b[38;5;241m=\u001b[39m cv2\u001b[38;5;241m.\u001b[39mcvtColor(frame, cv2\u001b[38;5;241m.\u001b[39mCOLOR_BGR2GRAY) \n",
      "\u001b[1;31mKeyboardInterrupt\u001b[0m: "
     ]
    }
   ],
   "source": [
    "#capture largest contour \n",
    "#close \n",
    "\n",
    "\n",
    "\n",
    "import cv2\n",
    "\n",
    "cap = cv2.VideoCapture(0)\n",
    "\n",
    "# Check if the webcam is opened correctly\n",
    "if not cap.isOpened():\n",
    "    raise IOError(\"Cannot open webcam\")\n",
    "\n",
    "while True:\n",
    "    ret, frame = cap.read()\n",
    "    frame = cv2.resize(frame, None, fx=0.5, fy=0.5, interpolation=cv2.INTER_AREA)\n",
    "    frame = cv2.cvtColor(frame, cv2.COLOR_BGR2GRAY) \n",
    "    blurred = cv2.GaussianBlur(frame, (5, 5), 0)\n",
    "    rectKernel = cv2.getStructuringElement(cv2.MORPH_RECT, (9, 9))\n",
    "    dilated = cv2.dilate(blurred, rectKernel)\n",
    "    edged = cv2.Canny(dilated, 100, 200, apertureSize=3)\n",
    "    contours, hierarchy = cv2.findContours(edged, cv2.RETR_TREE, cv2.CHAIN_APPROX_SIMPLE)\n",
    "    largest_contours = sorted(contours, key = cv2.contourArea, reverse = True)[:10]\n",
    "    \n",
    "    image_with_largest_contours = cv2.drawContours(edged.copy(), largest_contours, -1, (0,255,0), 3)\n",
    "\n",
    "    largest_contours = sorted(contours, key = cv2.contourArea, reverse = True)[:10]\n",
    "    image_with_largest_contours = cv2.drawContours(edged.copy(), largest_contours, -1, (0,255,0), 3)\n",
    "\n",
    "    \n",
    "    #scanned = wrap_perspective(image_with_receipt_contour.copy(), contour_to_rect(receipt_contour))\n",
    "    \n",
    "    \n",
    "    for c in largest_contours:\n",
    "        rect = cv2.boundingRect(c)\n",
    "        if rect[2] < 100 or rect[3] < 100: continue\n",
    "        #print cv2.contourArea(c)\n",
    "        x,y,w,h = rect\n",
    "        cv2.rectangle(frame,(x,y),(x+w,y+h),(0,255,0),2)\n",
    "        cv2.putText(frame,'Moth Detected',(x+w+10,y+h),0,0.3,(0,255,0))\n",
    "        cv2.imshow('Input', frame)\n",
    "    c = cv2.waitKey(1)\n",
    "    if c == 27:\n",
    "        break\n",
    "cap.release()\n",
    "cv2.destroyAllWindows()"
   ]
  },
  {
   "cell_type": "code",
   "execution_count": null,
   "id": "0bdb63b7-1159-4379-aa70-c6f0cfa638ba",
   "metadata": {},
   "outputs": [],
   "source": []
  },
  {
   "cell_type": "code",
   "execution_count": 203,
   "id": "b6e4def6-dd2b-49de-8e22-388106633833",
   "metadata": {},
   "outputs": [],
   "source": [
    "def contour_to_rect(contour):\n",
    "    pts = contour.reshape(4, 2)\n",
    "    rect = np.zeros((4, 2), dtype = \"float32\")\n",
    "    # top-left point has the smallest sum\n",
    "    # bottom-right has the largest sum\n",
    "    s = pts.sum(axis = 1)\n",
    "    rect[0] = pts[np.argmin(s)]\n",
    "    rect[2] = pts[np.argmax(s)]\n",
    "    # compute the difference between the points:\n",
    "    # the top-right will have the minumum difference \n",
    "    # the bottom-left will have the maximum difference\n",
    "    diff = np.diff(pts, axis = 1)\n",
    "    rect[1] = pts[np.argmin(diff)]\n",
    "    rect[3] = pts[np.argmax(diff)]\n",
    "    return rect / resize_ratio"
   ]
  },
  {
   "cell_type": "code",
   "execution_count": 204,
   "id": "512777eb-a23f-4bbc-b486-aa01108ee8c2",
   "metadata": {},
   "outputs": [],
   "source": [
    "def wrap_perspective(img, rect):\n",
    "    # unpack rectangle points: top left, top right, bottom right, bottom left\n",
    "    (tl, tr, br, bl) = rect\n",
    "    # compute the width of the new image\n",
    "    widthA = np.sqrt(((br[0] - bl[0]) ** 2) + ((br[1] - bl[1]) ** 2))\n",
    "    widthB = np.sqrt(((tr[0] - tl[0]) ** 2) + ((tr[1] - tl[1]) ** 2))\n",
    "    # compute the height of the new image\n",
    "    heightA = np.sqrt(((tr[0] - br[0]) ** 2) + ((tr[1] - br[1]) ** 2))\n",
    "    heightB = np.sqrt(((tl[0] - bl[0]) ** 2) + ((tl[1] - bl[1]) ** 2))\n",
    "    # take the maximum of the width and height values to reach\n",
    "    # our final dimensions\n",
    "    maxWidth = max(int(widthA), int(widthB))\n",
    "    maxHeight = max(int(heightA), int(heightB))\n",
    "    # destination points which will be used to map the screen to a \"scanned\" view\n",
    "    dst = np.array([\n",
    "        [0, 0],\n",
    "        [maxWidth - 1, 0],\n",
    "        [maxWidth - 1, maxHeight - 1],\n",
    "        [0, maxHeight - 1]], dtype = \"float32\")\n",
    "    # calculate the perspective transform matrix\n",
    "    M = cv2.getPerspectiveTransform(rect, dst)\n",
    "    # warp the perspective to grab the screen\n",
    "    return cv2.warpPerspective(img, M, (maxWidth, maxHeight))"
   ]
  },
  {
   "cell_type": "code",
   "execution_count": null,
   "id": "502e5ffc-4c15-43e4-ba17-a560fb762ef6",
   "metadata": {},
   "outputs": [],
   "source": [
    "scanned = wrap_perspective(original.copy(), contour_to_rect(receipt_contour))"
   ]
  }
 ],
 "metadata": {
  "kernelspec": {
   "display_name": "Python 3 (ipykernel)",
   "language": "python",
   "name": "python3"
  },
  "language_info": {
   "codemirror_mode": {
    "name": "ipython",
    "version": 3
   },
   "file_extension": ".py",
   "mimetype": "text/x-python",
   "name": "python",
   "nbconvert_exporter": "python",
   "pygments_lexer": "ipython3",
   "version": "3.9.12"
  }
 },
 "nbformat": 4,
 "nbformat_minor": 5
}
