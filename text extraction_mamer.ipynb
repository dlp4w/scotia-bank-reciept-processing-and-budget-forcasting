{
 "cells": [
  {
   "cell_type": "code",
   "execution_count": null,
   "id": "9000fd84-4caf-4d2f-8a8e-72fbd9e76066",
   "metadata": {},
   "outputs": [],
   "source": [
    "#!pip install pytesseract \n",
    "#!pip install opencv \n",
    "#!pip install numpy as np\n",
    "#!pip install pillow\n",
    "#!pip install postal"
   ]
  },
  {
   "cell_type": "code",
   "execution_count": null,
   "id": "72d5a4aa-174a-4967-8b1f-7add19be6804",
   "metadata": {},
   "outputs": [],
   "source": []
  },
  {
   "cell_type": "code",
   "execution_count": 1,
   "id": "1a0dc7e5-7010-4f89-b8a7-d0e0d36bb920",
   "metadata": {},
   "outputs": [],
   "source": [
    "import pytesseract \n",
    "from PIL import Image, ImageOps\n",
    "import numpy as np\n",
    "# from postal.parser import parse_address"
   ]
  },
  {
   "cell_type": "markdown",
   "id": "453d62a9-9bb8-42ca-9ada-a71a04cdc601",
   "metadata": {},
   "source": [
    "# extract image function"
   ]
  },
  {
   "cell_type": "code",
   "execution_count": 152,
   "id": "2a6fd9da-0f18-40f5-b302-b7d7ec675d52",
   "metadata": {},
   "outputs": [],
   "source": [
    "# this function extracts text from a reciept image using a url.\n",
    "def extract_text(url):\n",
    "    import pytesseract \n",
    "    from PIL import Image\n",
    "    \n",
    "    \"\"\"extracts test out of image\n",
    "    --inputs= image_url \"\"\"\n",
    "    #opening the image\n",
    "    im=Image.open(url)\n",
    "    grey= im.convert(mode=\"L\")\n",
    "    #threshold= 160\n",
    "    #image=grey.point(lambda x: 255 if x > threshold else 0)\n",
    "    \n",
    "    #configuration for pytesseract to operate with text extraction\n",
    "    config = ('-l eng --oem 1 --psm 3')\n",
    "    text = pytesseract.image_to_string(grey, config=config)\n",
    "    \n",
    "    return text"
   ]
  },
  {
   "cell_type": "markdown",
   "id": "24c869e1-9428-4f24-92cf-a7654232405f",
   "metadata": {},
   "source": [
    "# text extraction Demo "
   ]
  },
  {
   "cell_type": "code",
   "execution_count": 154,
   "id": "17329782-a490-4168-82ae-625d205fb5fa",
   "metadata": {
    "tags": []
   },
   "outputs": [
    {
     "name": "stdout",
     "output_type": "stream",
     "text": [
      "#14\n",
      "\n",
      "HP Pho Ga\n",
      "8930 Mission Dr. #102\n",
      "pp ooee 91770\n",
      "Phone (626)268-9999\n",
      "\n",
      " \n",
      "     \n",
      "\n",
      "bate: Apr 01, 2019 Time; 05:\n",
      "\n",
      "Server: Admin\n",
      "\n",
      "Bill; 59980 Table : 14\n",
      "\n",
      "1 Pho Ga (Small) 8.00\n",
      "\n",
      "1 Pho Ga (Large) 9.00\n",
      "\n",
      "1 Gor Cuon 5.25\n",
      "“Subtotal 22.25\n",
      "TAX 211\n",
      "Total 24.36\n",
      "8. Service Gharge- 40% 8.90\n",
      "\n",
      "Total $33 26\n",
      "\n",
      "Suggested Tip : 15% (3,65)\n",
      "\n",
      "18% (4.38)\n",
      "\n",
      "20% (4.87)\n",
      "Open Time : Apr 01, 2019 04:39PM\n",
      "Printed By : Admin\n",
      "\n",
      "Thank you for Coming !\n",
      "\f",
      "\n"
     ]
    }
   ],
   "source": [
    "##\n",
    "image=(r\"images/large-receipt-image-dataset-SRD/1012-receipt.jpg\")\n",
    "text=extract_text(image)\n",
    "print (text)"
   ]
  },
  {
   "cell_type": "markdown",
   "id": "06cf5c1a-52a9-49b8-a5cd-e4f21f90c329",
   "metadata": {},
   "source": [
    "# creating alist of the entire data_set locations and names"
   ]
  },
  {
   "cell_type": "code",
   "execution_count": 157,
   "id": "8a4a3e1a-c189-4f72-bff9-83ef96b114bc",
   "metadata": {},
   "outputs": [],
   "source": [
    "import os \n",
    "\n",
    "dir=[]\n",
    "directory=r\"images/large-receipt-image-dataset-SRD/\"\n",
    "for filename in os.listdir(directory):\n",
    "    f = os.path.join(directory, filename)\n",
    "    # checking if it is a file\n",
    "    if os.path.isfile(f):\n",
    "        dir.append(f)"
   ]
  },
  {
   "cell_type": "markdown",
   "id": "5b2974a4-7bec-414f-bd8f-ea2a4d3aab85",
   "metadata": {},
   "source": [
    "# extracting the texts from every image to a list"
   ]
  },
  {
   "cell_type": "code",
   "execution_count": 159,
   "id": "d26254c9-e1e7-43ff-8813-62b09acf286f",
   "metadata": {},
   "outputs": [],
   "source": [
    "texts=[]\n",
    "for i in dir :\n",
    "    text=extract_text(i)\n",
    "    texts.append(text)"
   ]
  },
  {
   "cell_type": "markdown",
   "id": "bc60ef0f-e6df-4b01-80a4-bc058e79d782",
   "metadata": {},
   "source": [
    "# writing the list to TXT file"
   ]
  },
  {
   "cell_type": "code",
   "execution_count": 168,
   "id": "904a8a68-c30e-4cca-82e7-9c45c94f2187",
   "metadata": {},
   "outputs": [
    {
     "name": "stdout",
     "output_type": "stream",
     "text": [
      "Done\n"
     ]
    }
   ],
   "source": [
    "with open(r'text.txt', 'w',encoding=\"utf-8\") as fp:\n",
    "    for item in texts:\n",
    "        # write each item on a new line\n",
    "        fp.write(\"%s\\n\" % item)\n",
    "    print('Done')"
   ]
  },
  {
   "cell_type": "markdown",
   "id": "b848754e-4deb-4ba3-91bf-1da33f690505",
   "metadata": {},
   "source": [
    "# writing list to CSV file "
   ]
  },
  {
   "cell_type": "code",
   "execution_count": 170,
   "id": "20efec3a-1e65-40c8-91e3-57b6fe2e117e",
   "metadata": {},
   "outputs": [],
   "source": [
    "import pandas as pd \n",
    "df=pd.DataFrame(texts)\n",
    "df.to_csv('texts.csv')"
   ]
  },
  {
   "cell_type": "markdown",
   "id": "173f6622-ce09-49d1-8c7e-9d5fb1683e06",
   "metadata": {},
   "source": [
    "# boot up camera function (basic)"
   ]
  },
  {
   "cell_type": "code",
   "execution_count": 4,
   "id": "b36cbde3-1800-491e-a19f-bdad15288726",
   "metadata": {},
   "outputs": [
    {
     "ename": "KeyboardInterrupt",
     "evalue": "",
     "output_type": "error",
     "traceback": [
      "\u001b[1;31m---------------------------------------------------------------------------\u001b[0m",
      "\u001b[1;31mKeyboardInterrupt\u001b[0m                         Traceback (most recent call last)",
      "Input \u001b[1;32mIn [4]\u001b[0m, in \u001b[0;36m<cell line: 14>\u001b[1;34m()\u001b[0m\n\u001b[0;32m     28\u001b[0m             \u001b[38;5;28;01mif\u001b[39;00m c \u001b[38;5;241m==\u001b[39m \u001b[38;5;241m27\u001b[39m:\n\u001b[0;32m     29\u001b[0m                 \u001b[38;5;28;01mbreak\u001b[39;00m\n\u001b[1;32m---> 30\u001b[0m     \u001b[43msleep\u001b[49m\u001b[43m(\u001b[49m\u001b[38;5;241;43m30\u001b[39;49m\u001b[43m)\u001b[49m\n\u001b[0;32m     31\u001b[0m cap\u001b[38;5;241m.\u001b[39mrelease()\n\u001b[0;32m     32\u001b[0m cv2\u001b[38;5;241m.\u001b[39mdestroyAllWindows()\n",
      "\u001b[1;31mKeyboardInterrupt\u001b[0m: "
     ]
    }
   ],
   "source": [
    "#open camera \n",
    "#add automated conturing to it\n",
    "#then add automated capture\n",
    "\n",
    "import cv2\n",
    "\n",
    "cap = cv2.VideoCapture(0)\n",
    "\n",
    "# Check if the webcam is opened correctly\n",
    "if not cap.isOpened():\n",
    "    raise IOError(\"Cannot open webcam\")\n",
    "\n",
    "while True:\n",
    "    ret, frame = cap.read()\n",
    "    frame = cv2.resize(frame, None, fx=0.5, fy=0.5, interpolation=cv2.INTER_AREA)\n",
    "    frame = cv2.cvtColor(frame, cv2.COLOR_BGR2GRAY) \n",
    "    ret, thresh = cv2.threshold(frame, 0, 255, cv2.THRESH_OTSU | cv2.THRESH_BINARY_INV) \n",
    "    contours, _ = cv2.findContours(thresh, cv2.RETR_LIST, cv2.CHAIN_APPROX_SIMPLE)\n",
    "    for c in contours:\n",
    "            rect = cv2.boundingRect(c)\n",
    "            if rect[2] < 100 or rect[3] < 100: continue\n",
    "            #print cv2.contourArea(c)\n",
    "            x,y,w,h = rect\n",
    "            cv2.rectangle(frame,(x,y),(x+w,y+h),(0,255,0),2)\n",
    "            cv2.putText(frame,'Moth Detected',(x+w+10,y+h),0,0.3,(0,255,0))\n",
    "            cv2.imshow('Input', frame)\n",
    "            c = cv2.waitKey(1)\n",
    "            if c == 27:\n",
    "                break\n",
    "    sleep(30)\n",
    "cap.release()\n",
    "cv2.destroyAllWindows()"
   ]
  },
  {
   "cell_type": "markdown",
   "id": "34005452-c9cf-422d-be21-08e42a2d530b",
   "metadata": {},
   "source": [
    "# Camera Function Advanced"
   ]
  },
  {
   "cell_type": "code",
   "execution_count": null,
   "id": "cd77245d-ecf5-47c2-8211-9a1fb00db55a",
   "metadata": {},
   "outputs": [],
   "source": [
    "#capture largest contour \n",
    "#close \n",
    "\n",
    "import cv2\n",
    "from time import sleep \n",
    "\n",
    "cap = cv2.VideoCapture(0)\n",
    "\n",
    "# Check if the webcam is opened correctly\n",
    "if not cap.isOpened():\n",
    "    raise IOError(\"Cannot open webcam\")\n",
    "\n",
    "while True:\n",
    "    #reading camera feed \n",
    "    ret, frame = cap.read()\n",
    "    #reseizing the frame\n",
    "    frame = cv2.resize(frame, None, fx=0.5, fy=0.5, interpolation=cv2.INTER_AREA)\n",
    "    #changing the input to grey\n",
    "    frame = cv2.cvtColor(frame, cv2.COLOR_BGR2GRAY) \n",
    "    blurred = cv2.GaussianBlur(frame, (5, 5), 0)\n",
    "    #building the rectangle kernel \n",
    "    rectKernel = cv2.getStructuringElement(cv2.MORPH_RECT, (9, 9))\n",
    "    dilated = cv2.dilate(blurred, rectKernel)\n",
    "    #building the a function to detect the edges \n",
    "    edged = cv2.Canny(dilated, 100, 200, apertureSize=3)\n",
    "    #finding the contours \n",
    "    contours, hierarchy = cv2.findContours(edged, cv2.RETR_TREE, cv2.CHAIN_APPROX_SIMPLE)\n",
    "    #finding the largest contours\n",
    "    largest_contours = sorted(contours, key = cv2.contourArea, reverse = True)[:10]\n",
    "    #selecting the largest contour \n",
    "    image_with_largest_contours = cv2.drawContours(edged, largest_contours, -1, (0,255,0), 3)\n",
    "\n",
    "    largest_contours = sorted(contours, key = cv2.contourArea, reverse = True)[:10]\n",
    "    image_with_largest_contours = cv2.drawContours(edged.copy(), largest_contours, -1, (0,255,0), 3)\n",
    "\n",
    "        \n",
    "    for c in largest_contours:\n",
    "        rect = cv2.boundingRect(c)\n",
    "        if rect[2] < 100 or rect[3] < 100: continue\n",
    "        #print cv2.contourArea(c)\n",
    "        x,y,w,h = rect\n",
    "        cv2.rectangle(frame,(x,y),(x+w,y+h),(0,255,0),2)\n",
    "        cv2.putText(frame,'Moth Detected',(x+w+10,y+h),0,0.3,(0,255,0))\n",
    "        cv2.imshow('Input', frame)\n",
    "    c = cv2.waitKey(1)\n",
    "    if c == 27:\n",
    "        break\n",
    "    sleep(35)\n",
    "    cap.release()\n",
    "    cv2.destroyAllWindows()\n",
    "    break \n"
   ]
  },
  {
   "cell_type": "markdown",
   "id": "03790393-640d-49e0-9174-4c2389ff75d9",
   "metadata": {},
   "source": [
    "# need to be done\n",
    "**add photo snapping function to the camera feed**\n",
    "\n"
   ]
  },
  {
   "cell_type": "code",
   "execution_count": null,
   "id": "7b0ba6a9-03ae-4067-977e-5c3db378e6ef",
   "metadata": {},
   "outputs": [],
   "source": []
  }
 ],
 "metadata": {
  "kernelspec": {
   "display_name": "Python 3 (ipykernel)",
   "language": "python",
   "name": "python3"
  },
  "language_info": {
   "codemirror_mode": {
    "name": "ipython",
    "version": 3
   },
   "file_extension": ".py",
   "mimetype": "text/x-python",
   "name": "python",
   "nbconvert_exporter": "python",
   "pygments_lexer": "ipython3",
   "version": "3.9.12"
  }
 },
 "nbformat": 4,
 "nbformat_minor": 5
}
