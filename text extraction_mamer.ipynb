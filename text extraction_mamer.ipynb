{
 "cells": [
  {
   "cell_type": "code",
   "execution_count": null,
   "id": "9000fd84-4caf-4d2f-8a8e-72fbd9e76066",
   "metadata": {},
   "outputs": [],
   "source": [
    "#!pip install pytesseract \n",
    "#!pip install opencv \n",
    "#!pip install numpy as np\n",
    "#!pip install pillow\n",
    "#!pip install postal"
   ]
  },
  {
   "cell_type": "code",
   "execution_count": null,
   "id": "72d5a4aa-174a-4967-8b1f-7add19be6804",
   "metadata": {},
   "outputs": [],
   "source": []
  },
  {
   "cell_type": "code",
   "execution_count": 151,
   "id": "1a0dc7e5-7010-4f89-b8a7-d0e0d36bb920",
   "metadata": {},
   "outputs": [],
   "source": [
    "import pytesseract \n",
    "from PIL import Image, ImageOps\n",
    "import numpy as np\n",
    "# from postal.parser import parse_address"
   ]
  },
  {
   "cell_type": "code",
   "execution_count": 152,
   "id": "2a6fd9da-0f18-40f5-b302-b7d7ec675d52",
   "metadata": {},
   "outputs": [],
   "source": [
    "\n",
    "def extract_text(url):\n",
    "    import pytesseract \n",
    "    from PIL import Image\n",
    "    \n",
    "    \"\"\"extracts test out of image\n",
    "    --inputs= image_url \"\"\"\n",
    "    #opening the image\n",
    "    im=Image.open(url)\n",
    "    grey= im.convert(mode=\"L\")\n",
    "    #threshold= 160\n",
    "    #image=grey.point(lambda x: 255 if x > threshold else 0)\n",
    "    \n",
    "    #configuration for pytesseract to operate with text extraction\n",
    "    config = ('-l eng --oem 1 --psm 3')\n",
    "    text = pytesseract.image_to_string(grey, config=config)\n",
    "    \n",
    "    return text"
   ]
  },
  {
   "cell_type": "code",
   "execution_count": 153,
   "id": "7edac29f-ddf2-4017-bab5-bf6f31c98ff6",
   "metadata": {},
   "outputs": [],
   "source": [
    "#extract address --in progress.... \n",
    "def extract_address(text):\n",
    "    import re\n",
    "    text=text\n",
    "    regexp = \"[0-9]{1,3} .+, .+, [A-Z]{2} [0-9]{5}\"\n",
    "    address = re.findall(regexp, text)\n",
    "    return address \n",
    "\n",
    "\n",
    "#extract order\n",
    "\n",
    "#def order():\n",
    "    \n",
    "#extract total\n",
    "\n",
    "#def extract_total():\n",
    "    \n",
    "#makesure to have the total mapped into numbers if not extracted as a number, try to map the letters into numbers.\n",
    "\n",
    "\n",
    "\n"
   ]
  },
  {
   "cell_type": "code",
   "execution_count": 154,
   "id": "17329782-a490-4168-82ae-625d205fb5fa",
   "metadata": {
    "tags": []
   },
   "outputs": [
    {
     "name": "stdout",
     "output_type": "stream",
     "text": [
      "#14\n",
      "\n",
      "HP Pho Ga\n",
      "8930 Mission Dr. #102\n",
      "pp ooee 91770\n",
      "Phone (626)268-9999\n",
      "\n",
      " \n",
      "     \n",
      "\n",
      "bate: Apr 01, 2019 Time; 05:\n",
      "\n",
      "Server: Admin\n",
      "\n",
      "Bill; 59980 Table : 14\n",
      "\n",
      "1 Pho Ga (Small) 8.00\n",
      "\n",
      "1 Pho Ga (Large) 9.00\n",
      "\n",
      "1 Gor Cuon 5.25\n",
      "“Subtotal 22.25\n",
      "TAX 211\n",
      "Total 24.36\n",
      "8. Service Gharge- 40% 8.90\n",
      "\n",
      "Total $33 26\n",
      "\n",
      "Suggested Tip : 15% (3,65)\n",
      "\n",
      "18% (4.38)\n",
      "\n",
      "20% (4.87)\n",
      "Open Time : Apr 01, 2019 04:39PM\n",
      "Printed By : Admin\n",
      "\n",
      "Thank you for Coming !\n",
      "\f",
      "\n"
     ]
    }
   ],
   "source": [
    "\n",
    "image=(r\"images/large-receipt-image-dataset-SRD/1012-receipt.jpg\")\n",
    "text=extract_text(image)\n",
    "print (text)"
   ]
  },
  {
   "cell_type": "code",
   "execution_count": 157,
   "id": "8a4a3e1a-c189-4f72-bff9-83ef96b114bc",
   "metadata": {},
   "outputs": [],
   "source": [
    "import os \n",
    "\n",
    "dir=[]\n",
    "directory=r\"images/large-receipt-image-dataset-SRD/\"\n",
    "for filename in os.listdir(directory):\n",
    "    f = os.path.join(directory, filename)\n",
    "    # checking if it is a file\n",
    "    if os.path.isfile(f):\n",
    "        dir.append(f)"
   ]
  },
  {
   "cell_type": "code",
   "execution_count": 159,
   "id": "d26254c9-e1e7-43ff-8813-62b09acf286f",
   "metadata": {},
   "outputs": [],
   "source": [
    "texts=[]\n",
    "for i in dir :\n",
    "    text=extract_text(i)\n",
    "    texts.append(text)"
   ]
  },
  {
   "cell_type": "code",
   "execution_count": 168,
   "id": "904a8a68-c30e-4cca-82e7-9c45c94f2187",
   "metadata": {},
   "outputs": [
    {
     "name": "stdout",
     "output_type": "stream",
     "text": [
      "Done\n"
     ]
    }
   ],
   "source": [
    "with open(r'text.txt', 'w',encoding=\"utf-8\") as fp:\n",
    "    for item in texts:\n",
    "        # write each item on a new line\n",
    "        fp.write(\"%s\\n\" % item)\n",
    "    print('Done')"
   ]
  },
  {
   "cell_type": "code",
   "execution_count": 165,
   "id": "20efec3a-1e65-40c8-91e3-57b6fe2e117e",
   "metadata": {},
   "outputs": [
    {
     "data": {
      "text/plain": [
       "'San Diego CA\\n(858) 488-\\n\\n40.00\\n(2)BMOD Up\\n16\\n\\n34.00\\n5.00\\n\\n167.00\\n12,94\\n\\n179.94\\n\\nBalance Due 179.94\\n\\nSUGGESTED TIP\\nBEFORE DISCOUNTS\\n18% =$30,06\\n20% =$33.40\\n\\n22% =$36.74\\n\\n \\n\\x0c'"
      ]
     },
     "execution_count": 165,
     "metadata": {},
     "output_type": "execute_result"
    }
   ],
   "source": []
  },
  {
   "cell_type": "code",
   "execution_count": null,
   "id": "ed3a2793-9e26-48ad-971a-71a98c26ecc0",
   "metadata": {},
   "outputs": [],
   "source": []
  },
  {
   "cell_type": "code",
   "execution_count": null,
   "id": "db83356e-3703-4526-a268-b91e213fcc64",
   "metadata": {},
   "outputs": [],
   "source": [
    "from commonregex import CommonRegex"
   ]
  },
  {
   "cell_type": "code",
   "execution_count": null,
   "id": "7b4c3919-3b25-403f-9c78-97b238be31fa",
   "metadata": {},
   "outputs": [],
   "source": [
    "parsed_text=CommonRegex(text)"
   ]
  },
  {
   "cell_type": "code",
   "execution_count": null,
   "id": "31fe0315-cc81-4661-8ae6-1c5dfb915c6a",
   "metadata": {},
   "outputs": [],
   "source": [
    "parsed_text.times"
   ]
  },
  {
   "cell_type": "code",
   "execution_count": null,
   "id": "93fe75e4-da79-4560-af10-d3971ba4c24f",
   "metadata": {},
   "outputs": [],
   "source": [
    "parsed_text.phones"
   ]
  },
  {
   "cell_type": "code",
   "execution_count": null,
   "id": "937fc7d9-414c-4d72-80b1-1cef4a8bf64c",
   "metadata": {},
   "outputs": [],
   "source": [
    "parsed_text.street_addresses"
   ]
  },
  {
   "cell_type": "code",
   "execution_count": null,
   "id": "94908892-a342-4336-b842-1a9f5da53367",
   "metadata": {},
   "outputs": [],
   "source": [
    "import usaddress \n",
    "usaddress.parse(text)"
   ]
  },
  {
   "cell_type": "code",
   "execution_count": null,
   "id": "3e8df305-5fb9-49a3-a9e0-68187a2943a8",
   "metadata": {},
   "outputs": [],
   "source": [
    "pip install usaddress\n"
   ]
  },
  {
   "cell_type": "code",
   "execution_count": null,
   "id": "b36cbde3-1800-491e-a19f-bdad15288726",
   "metadata": {},
   "outputs": [],
   "source": []
  }
 ],
 "metadata": {
  "kernelspec": {
   "display_name": "Python 3 (ipykernel)",
   "language": "python",
   "name": "python3"
  },
  "language_info": {
   "codemirror_mode": {
    "name": "ipython",
    "version": 3
   },
   "file_extension": ".py",
   "mimetype": "text/x-python",
   "name": "python",
   "nbconvert_exporter": "python",
   "pygments_lexer": "ipython3",
   "version": "3.9.12"
  }
 },
 "nbformat": 4,
 "nbformat_minor": 5
}
