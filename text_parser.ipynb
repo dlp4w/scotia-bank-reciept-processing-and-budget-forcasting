{
 "cells": [
  {
   "cell_type": "code",
   "execution_count": null,
   "id": "105bcf73-1b4a-47ff-a785-f41186a1c318",
   "metadata": {},
   "outputs": [],
   "source": [
    "#!pip install CommonRegex\n",
    "#!pip install pgeocode"
   ]
  },
  {
   "cell_type": "code",
   "execution_count": 9,
   "id": "d428199f-a0ad-4465-aae0-a931f81da09f",
   "metadata": {},
   "outputs": [],
   "source": [
    "import pytesseract \n",
    "from PIL import Image, ImageOps\n",
    "import re\n",
    "import numpy as np\n",
    "from commonregex import CommonRegex\n",
    "import pandas as pd\n",
    "import pgeocode\n",
    "\n",
    "# from postal.parser import parse_address"
   ]
  },
  {
   "cell_type": "code",
   "execution_count": 10,
   "id": "a8b477a6-9ffa-47d7-97e7-a3af13bb32aa",
   "metadata": {},
   "outputs": [],
   "source": [
    "texts_df = pd.read_csv('texts.csv')\n",
    "text = texts['0'][0]\n",
    "times = CommonRegex(text).times\n",
    "\n",
    "#pri"
   ]
  },
  {
   "cell_type": "code",
   "execution_count": 11,
   "id": "0a99626a-9591-4618-a2e3-f1dbd64928cc",
   "metadata": {},
   "outputs": [],
   "source": [
    "\n",
    "us_zip = r'(\\d{5}\\-?\\d{0,4})'\n",
    "zip_code = re.search(us_zip, text)\n",
    "zip_code = zip_code[0]\n",
    "\n",
    "nomi = pgeocode.Nominatim('us')\n",
    "geodata = nomi.query_postal_code(zip_code)"
   ]
  },
  {
   "cell_type": "code",
   "execution_count": 12,
   "id": "2615d4b4",
   "metadata": {},
   "outputs": [],
   "source": [
    "def extract_prices(text):\n",
    "    return CommonRegex(text).prices"
   ]
  },
  {
   "cell_type": "code",
   "execution_count": 13,
   "id": "24c0ca03-71a0-4e4b-8cef-560b99406ad2",
   "metadata": {},
   "outputs": [],
   "source": [
    "def extract_geo(text):\n",
    "    #zip_code \n",
    "    us_zip = r'(\\d{5}\\-?\\d{0,4})'\n",
    "    zip_code = re.search(us_zip, text)\n",
    "    try:\n",
    "        zip_code = zip_code[0]\n",
    "        nomi = pgeocode.Nominatim('us')\n",
    "        geodata = nomi.query_postal_code(zip_code)\n",
    "        longitude = geodata['longitude']\n",
    "        latitude = geodata['latitude']\n",
    "    except:\n",
    "        zip_code = np.nan\n",
    "        longitude = np.nan\n",
    "        latitude = np.nan\n",
    "        \n",
    "    \n",
    "    address = CommonRegex(text).street_addresses\n",
    "    if len(address) == 1:\n",
    "        address =  address[0]\n",
    "    else:\n",
    "        address = np.nan\n",
    "\n",
    "        \n",
    "    return zip_code, longitude, latitude, address\n",
    "    \n",
    "    "
   ]
  },
  {
   "cell_type": "code",
   "execution_count": 14,
   "id": "975925ca",
   "metadata": {},
   "outputs": [],
   "source": [
    "def extract_time(text):\n",
    "    times = CommonRegex(text).times\n",
    "    if len(times) == 1:\n",
    "        return times[0]\n",
    "    else:\n",
    "        return np.nan"
   ]
  },
  {
   "cell_type": "code",
   "execution_count": 16,
   "id": "a8cb52be-e60f-460b-bd04-718bd8da8cac",
   "metadata": {},
   "outputs": [],
   "source": [
    "#texts_df = pd.read_csv('texts.csv')\n",
    "geos = []\n",
    "times = []\n",
    "for text in texts_df['0']:\n",
    "    times.append(extract_time(text))\n",
    "    geos.append(extract_geo(text))\n",
    "\n"
   ]
  },
  {
   "cell_type": "code",
   "execution_count": 17,
   "id": "5f1009f2-eb31-47eb-9351-ab021b55a179",
   "metadata": {},
   "outputs": [],
   "source": [
    "import pandas as pd\n",
    "df = pd.DataFrame(data = geos, columns = ['Zipcode','Latitude', 'Longitude', 'Address' ])\n",
    "df['Time'] = times"
   ]
  },
  {
   "cell_type": "code",
   "execution_count": 32,
   "id": "c980d603",
   "metadata": {},
   "outputs": [],
   "source": [
    "prices = []\n",
    "for text in texts_df['0']:\n",
    "    prices.append(extract_prices(text))\n",
    "df['prices'] = prices\n",
    "\n",
    "\n",
    "database = df.explode('prices')\n",
    "database.reset_index(inplace = True)"
   ]
  },
  {
   "cell_type": "code",
   "execution_count": 36,
   "id": "0a05101e",
   "metadata": {},
   "outputs": [
    {
     "data": {
      "text/plain": [
       "index          0\n",
       "Zipcode       83\n",
       "Latitude     176\n",
       "Longitude    176\n",
       "Address      246\n",
       "Time         143\n",
       "prices       130\n",
       "dtype: int64"
      ]
     },
     "execution_count": 36,
     "metadata": {},
     "output_type": "execute_result"
    }
   ],
   "source": [
    "database.isna().sum()"
   ]
  },
  {
   "cell_type": "code",
   "execution_count": 37,
   "id": "12b4e824",
   "metadata": {},
   "outputs": [
    {
     "data": {
      "text/plain": [
       "Zipcode       62\n",
       "Latitude     111\n",
       "Longitude    111\n",
       "Address      130\n",
       "Time          91\n",
       "prices         0\n",
       "dtype: int64"
      ]
     },
     "execution_count": 37,
     "metadata": {},
     "output_type": "execute_result"
    }
   ],
   "source": [
    "df.isna().sum()"
   ]
  },
  {
   "cell_type": "code",
   "execution_count": null,
   "id": "583ba2b1",
   "metadata": {},
   "outputs": [],
   "source": []
  }
 ],
 "metadata": {
  "kernelspec": {
   "display_name": "Python 3 (ipykernel)",
   "language": "python",
   "name": "python3"
  },
  "language_info": {
   "codemirror_mode": {
    "name": "ipython",
    "version": 3
   },
   "file_extension": ".py",
   "mimetype": "text/x-python",
   "name": "python",
   "nbconvert_exporter": "python",
   "pygments_lexer": "ipython3",
   "version": "3.9.12"
  }
 },
 "nbformat": 4,
 "nbformat_minor": 5
}
